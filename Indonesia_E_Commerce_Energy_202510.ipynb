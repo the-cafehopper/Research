{
  "nbformat": 4,
  "nbformat_minor": 0,
  "metadata": {
    "colab": {
      "provenance": [],
      "authorship_tag": "ABX9TyObxFg4TLhY6OmbN3ZlV9A+",
      "include_colab_link": true
    },
    "kernelspec": {
      "name": "python3",
      "display_name": "Python 3"
    },
    "language_info": {
      "name": "python"
    }
  },
  "cells": [
    {
      "cell_type": "markdown",
      "metadata": {
        "id": "view-in-github",
        "colab_type": "text"
      },
      "source": [
        "<a href=\"https://colab.research.google.com/github/the-cafehopper/Research/blob/main/Indonesia_E_Commerce_Energy_202510.ipynb\" target=\"_parent\"><img src=\"https://colab.research.google.com/assets/colab-badge.svg\" alt=\"Open In Colab\"/></a>"
      ]
    },
    {
      "cell_type": "code",
      "execution_count": null,
      "metadata": {
        "colab": {
          "base_uri": "https://localhost:8080/"
        },
        "id": "WEFmmkTfTPru",
        "outputId": "d907be1b-788f-49be-fbdc-d328b08e3f21"
      },
      "outputs": [
        {
          "output_type": "stream",
          "name": "stdout",
          "text": [
            "Requirement already satisfied: pandas in /usr/local/lib/python3.12/dist-packages (2.2.2)\n",
            "Requirement already satisfied: numpy in /usr/local/lib/python3.12/dist-packages (2.0.2)\n",
            "Requirement already satisfied: statsmodels in /usr/local/lib/python3.12/dist-packages (0.14.5)\n",
            "Collecting pyjanitor\n",
            "  Downloading pyjanitor-0.31.0-py3-none-any.whl.metadata (6.1 kB)\n",
            "Requirement already satisfied: openpyxl in /usr/local/lib/python3.12/dist-packages (3.1.5)\n",
            "Requirement already satisfied: python-dateutil>=2.8.2 in /usr/local/lib/python3.12/dist-packages (from pandas) (2.9.0.post0)\n",
            "Requirement already satisfied: pytz>=2020.1 in /usr/local/lib/python3.12/dist-packages (from pandas) (2025.2)\n",
            "Requirement already satisfied: tzdata>=2022.7 in /usr/local/lib/python3.12/dist-packages (from pandas) (2025.2)\n",
            "Requirement already satisfied: scipy!=1.9.2,>=1.8 in /usr/local/lib/python3.12/dist-packages (from statsmodels) (1.16.2)\n",
            "Requirement already satisfied: patsy>=0.5.6 in /usr/local/lib/python3.12/dist-packages (from statsmodels) (1.0.1)\n",
            "Requirement already satisfied: packaging>=21.3 in /usr/local/lib/python3.12/dist-packages (from statsmodels) (25.0)\n",
            "Requirement already satisfied: natsort in /usr/local/lib/python3.12/dist-packages (from pyjanitor) (8.4.0)\n",
            "Collecting pandas_flavor (from pyjanitor)\n",
            "  Downloading pandas_flavor-0.7.0-py3-none-any.whl.metadata (6.7 kB)\n",
            "Requirement already satisfied: multipledispatch in /usr/local/lib/python3.12/dist-packages (from pyjanitor) (1.0.0)\n",
            "Requirement already satisfied: et-xmlfile in /usr/local/lib/python3.12/dist-packages (from openpyxl) (2.0.0)\n",
            "Requirement already satisfied: six>=1.5 in /usr/local/lib/python3.12/dist-packages (from python-dateutil>=2.8.2->pandas) (1.17.0)\n",
            "Requirement already satisfied: xarray in /usr/local/lib/python3.12/dist-packages (from pandas_flavor->pyjanitor) (2025.10.1)\n",
            "Downloading pyjanitor-0.31.0-py3-none-any.whl (215 kB)\n",
            "\u001b[2K   \u001b[90m━━━━━━━━━━━━━━━━━━━━━━━━━━━━━━━━━━━━━━━━\u001b[0m \u001b[32m215.4/215.4 kB\u001b[0m \u001b[31m4.1 MB/s\u001b[0m eta \u001b[36m0:00:00\u001b[0m\n",
            "\u001b[?25hDownloading pandas_flavor-0.7.0-py3-none-any.whl (8.4 kB)\n",
            "Installing collected packages: pandas_flavor, pyjanitor\n",
            "Successfully installed pandas_flavor-0.7.0 pyjanitor-0.31.0\n"
          ]
        }
      ],
      "source": [
        "pip install pandas numpy statsmodels pyjanitor openpyxl"
      ]
    },
    {
      "cell_type": "code",
      "source": [
        "import pandas as pd\n",
        "import numpy as np\n",
        "from pathlib import Path"
      ],
      "metadata": {
        "id": "PZkeQQhaTsmU"
      },
      "execution_count": null,
      "outputs": []
    },
    {
      "cell_type": "code",
      "source": [
        "# Paths\n",
        "household_fp = \"dehs2020_household_v2.csv\"\n",
        "individual_fp = \"dehs2020_individual_v2.csv\"\n",
        "out_fp = \"dehs2020_masterdataset.csv\""
      ],
      "metadata": {
        "id": "xaMU747mcBAP"
      },
      "execution_count": null,
      "outputs": []
    },
    {
      "cell_type": "code",
      "source": [
        "# Load\n",
        "hh = pd.read_csv(household_fp, low_memory=False)\n",
        "ind = pd.read_csv(individual_fp, low_memory=False)"
      ],
      "metadata": {
        "id": "qjmwjDHwcEL-"
      },
      "execution_count": null,
      "outputs": []
    },
    {
      "cell_type": "code",
      "source": [
        "# Detect merge key (defaults to hhid if present)\n",
        "hh_cols_lower = {c.lower(): c for c in hh.columns}\n",
        "ind_cols_lower = {c.lower(): c for c in ind.columns}\n",
        "\n",
        "if \"hhid\" in hh_cols_lower and \"hhid\" in ind_cols_lower:\n",
        "  hh_key, ind_key = hh_cols_lower[\"hhid\"], ind_cols_lower[\"hhid\"]\n",
        "else:\n",
        "  common = set(hh_cols_lower).intersection(ind_cols_lower)\n",
        "  # heuristic fallback\n",
        "  candidates = [c for c in common if \"hh\" in c or \"house\" in c or c.endswith(\"id\")]\n",
        "  if not candidates:\n",
        "    raise ValueError(\"Could not auto-detect a common household key. Set hh_key and ind_key manually.\")\n",
        "  pick = candidates[0]\n",
        "  hh_key, ind_key = hh_cols_lower[pick], ind_cols_lower[pick]"
      ],
      "metadata": {
        "id": "yAjUQW5k_5wg"
      },
      "execution_count": null,
      "outputs": []
    },
    {
      "cell_type": "code",
      "source": [
        "# Select + rename household vars\n",
        "var_map_hh = {\n",
        "    \"m1_iii_1\" : \"province_code\", # province identifier\n",
        "    \"m1_iii_5\" : \"urban_rural\", # 1=Urban, 2=Rural\n",
        "    \"m9_ii_21_ax\" : \"monthly_income\", # income proxy\n",
        "    \"m9_iii_67e\" : \"digital_payment_raw\", # 1 yes, 3 no\n",
        "    \"m9_iii_68c\" : \"ecommerce_raw\", # Likert 1..5 (1-2 positive)\n",
        "    \"m1_vi_35\" : \"lighting_source\" # 1 PLN, 2 Non-PLN\n",
        "}\n",
        "present_hh = {k: v for k, v in var_map_hh.items() if k in hh.columns}\n",
        "hh_sub = hh[[hh_key] + list(present_hh.keys())].rename(columns=present_hh)\n",
        "hh_sub = hh_sub.rename(columns={hh_key: \"hhid_key\"})"
      ],
      "metadata": {
        "id": "uxoYDPb0eIVY"
      },
      "execution_count": null,
      "outputs": []
    },
    {
      "cell_type": "code",
      "source": [
        "# Recode helpers\n",
        "def yesno(series, yes=(1,), no=(3,)):\n",
        "  return series.apply(lambda x: 1 if x in yes else (0 if x in no else np.nan))\n",
        "\n",
        "# Digital payment (1=yes, 3=no)\n",
        "if \"digital_payment_raw\" in hh_sub:\n",
        "  hh_sub[\"digital_payment\"] = yesno(hh_sub[\"digital_payment_raw\"], yes=(1,), no=(3,))\n",
        "\n",
        "# E-commerce (Likert 1..5 -> engaged=1 if 1 or 2; else 0\n",
        "if \"ecommerce_raw\" in hh_sub:\n",
        "  hh_sub[\"ecommerce_participation\"] = hh_sub[\"ecommerce_raw\"].apply(\n",
        "      lambda x: 1 if x in [1,2] else (0 if x in [3,4,5] else np.nan)\n",
        "  )\n",
        "\n",
        "# Renewable proxy (Non-PLN -> 1; PLN -> 0)\n",
        "if \"lighting_source\" in hh_sub:\n",
        "  hh_sub[\"renewable_use\"] = hh_sub[\"lighting_source\"].apply(\n",
        "      lambda x: 1 if x == 2 else (0 if x == 1 else np.nan)\n",
        "  )\n",
        "\n",
        "# Urban dummy\n",
        "if \"urban_rural\" in hh_sub:\n",
        "  hh_sub[\"urban_dummy\"] = hh_sub[\"urban_rural\"].apply(\n",
        "      lambda x: 1 if x == 1 else (0 if x == 2 else np.nan)\n",
        "  )\n",
        "\n",
        "# Log income (avoid log(0))\n",
        "if \"monthly_income\" in hh_sub:\n",
        "  hh_sub[\"log_income\"] = np.log(hh_sub[\"monthly_income\"].replace({0: np.nan}))\n",
        "\n",
        "# Composite digital participation\n",
        "digital_cols = [c for c in [\"digital_payment\", \"ecommerce_participation\"] if c in hh_sub.columns]\n",
        "if digital_cols:\n",
        "  hh_sub[\"digital_participation\"] = hh_sub[digital_cols].max(axis=1, skipna=True)"
      ],
      "metadata": {
        "id": "g9ICFxeUGIC7"
      },
      "execution_count": null,
      "outputs": []
    },
    {
      "cell_type": "code",
      "source": [
        "# Education from individual file\n",
        "if \"m1_v_8\" not in ind.columns:\n",
        "    raise ValueError(\"Education variable 'm1_v_8' not found in individual data.\")\n",
        "\n",
        "# Rename merge key\n",
        "ind_tmp = ind.rename(columns={ind_key: \"hhid_key\"})\n",
        "\n",
        "# Head’s education (relation == 1)\n",
        "rel_candidates = [c for c in ind_tmp.columns if c.lower() in {\"m1_iv_2\", \"m1_ii_1\", \"relation\", \"rel_head\"}]\n",
        "\n",
        "if rel_candidates and rel_candidates[0] in ind_tmp.columns:\n",
        "    rel_col = rel_candidates[0]\n",
        "    # Filter for household head only (relation == 1)\n",
        "    edu_hh = (\n",
        "        ind_tmp.loc[ind_tmp[rel_col] == 1, [\"hhid_key\", \"m1_v_8\"]]\n",
        "        .dropna()\n",
        "        .groupby(\"hhid_key\", as_index=False)[\"m1_v_8\"]\n",
        "        .first()\n",
        "        .rename(columns={\"m1_v_8\": \"education_level\"})\n",
        "    )\n",
        "    print(f\"Education aggregated using household head column: {rel_col}\")\n",
        "else:\n",
        "    # Fallback: take MAX education within HH\n",
        "    edu_hh = (\n",
        "        ind_tmp.groupby(\"hhid_key\", as_index=False)[\"m1_v_8\"]\n",
        "        .max()\n",
        "        .rename(columns={\"m1_v_8\": \"education_level\"})\n",
        "    )\n",
        "    print(\"Education aggregated using MAX education within household (head not detected).\")\n"
      ],
      "metadata": {
        "colab": {
          "base_uri": "https://localhost:8080/"
        },
        "id": "iKtJtJcxEJEq",
        "outputId": "79252a69-c3a2-49a4-a9ad-16b1e7e4adad"
      },
      "execution_count": null,
      "outputs": [
        {
          "output_type": "stream",
          "name": "stdout",
          "text": [
            "Education aggregated using MAX education within household (head not detected).\n"
          ]
        }
      ]
    },
    {
      "cell_type": "code",
      "source": [
        "# Merge education into household data\n",
        "df = hh_sub.merge(edu_hh, on=\"hhid_key\", how=\"left\")\n",
        "print(merged[[\"hhid_key\", \"education_level\"]].head())"
      ],
      "metadata": {
        "colab": {
          "base_uri": "https://localhost:8080/"
        },
        "id": "xXoKjfjMIWeg",
        "outputId": "7438c392-6bc5-4264-b665-9922b00de0b5"
      },
      "execution_count": null,
      "outputs": [
        {
          "output_type": "stream",
          "name": "stdout",
          "text": [
            "   hhid_key  education_level\n",
            "0      1103              7.0\n",
            "1      1203              7.0\n",
            "2      1105              7.0\n",
            "3      1102              9.0\n",
            "4      1205              7.0\n"
          ]
        }
      ]
    },
    {
      "cell_type": "code",
      "source": [
        "# Save the file for analysis\n",
        "df.to_csv(out_fp, index=False)\n",
        "print(\"Saved:\", out_fp)\n",
        "print(\"Columns:\", df.columns.tolist())\n",
        "print(df.head(3))"
      ],
      "metadata": {
        "colab": {
          "base_uri": "https://localhost:8080/"
        },
        "id": "nH4Sb1KpJJgR",
        "outputId": "8ac7106b-987e-4e07-b31e-dc668515437e"
      },
      "execution_count": null,
      "outputs": [
        {
          "output_type": "stream",
          "name": "stdout",
          "text": [
            "Saved: dehs2020_masterdataset.csv\n",
            "Columns: ['hhid_key', 'province_code', 'urban_rural', 'monthly_income', 'digital_payment_raw', 'ecommerce_raw', 'lighting_source', 'digital_payment', 'ecommerce_participation', 'renewable_use', 'urban_dummy', 'log_income', 'digital_participation', 'education_level']\n",
            "   hhid_key  province_code  urban_rural  monthly_income  digital_payment_raw  \\\n",
            "0      1103             11            2             1.0                  NaN   \n",
            "1      1203             11            2             NaN                  NaN   \n",
            "2      1105             11            2             1.0                  NaN   \n",
            "\n",
            "   ecommerce_raw  lighting_source  digital_payment  ecommerce_participation  \\\n",
            "0            NaN                1              NaN                      NaN   \n",
            "1            NaN                1              NaN                      NaN   \n",
            "2            NaN                1              NaN                      NaN   \n",
            "\n",
            "   renewable_use  urban_dummy  log_income  digital_participation  \\\n",
            "0            0.0            0         0.0                    NaN   \n",
            "1            0.0            0         NaN                    NaN   \n",
            "2            0.0            0         0.0                    NaN   \n",
            "\n",
            "   education_level  \n",
            "0              7.0  \n",
            "1              7.0  \n",
            "2              7.0  \n"
          ]
        }
      ]
    },
    {
      "cell_type": "code",
      "source": [
        "# Quick diagnosis and descriptives\n",
        "df = pd.read_csv(\"dehs2020_masterdataset.csv\")\n",
        "\n",
        "keep = [c for c in [\"renewable_use\",\"digital_payment\",\"ecommerce_participation\",\n",
        "                    \"digital_participation\",\"log_income\",\"urban_dummy\",\n",
        "                    \"education_level\",\"province_code\"] if c in df.columns]\n",
        "print(\"Available:\", keep)\n",
        "\n",
        "desc = df[keep].describe().T\n",
        "desc[\"mean_pct\"] = (desc[\"mean\"]*100).round(2)\n",
        "print(desc[[\"count\",\"mean\",\"mean_pct\",\"std\",\"min\",\"max\"]])"
      ],
      "metadata": {
        "colab": {
          "base_uri": "https://localhost:8080/"
        },
        "id": "kHbpBUYCNtYB",
        "outputId": "34a18c7b-a7e7-4d97-8485-8b5e2ad8b977"
      },
      "execution_count": null,
      "outputs": [
        {
          "output_type": "stream",
          "name": "stdout",
          "text": [
            "Available: ['renewable_use', 'digital_payment', 'ecommerce_participation', 'digital_participation', 'log_income', 'urban_dummy', 'education_level', 'province_code']\n",
            "                          count       mean  mean_pct        std   min  \\\n",
            "renewable_use            3054.0   0.009168      0.92   0.095327   0.0   \n",
            "digital_payment           191.0   0.115183     11.52   0.320082   0.0   \n",
            "ecommerce_participation   191.0   0.685864     68.59   0.465391   0.0   \n",
            "digital_participation     191.0   0.712042     71.20   0.454002   0.0   \n",
            "log_income               1542.0   0.024100      2.41   0.221877   0.0   \n",
            "urban_dummy              3063.0   0.666993     66.70   0.471366   0.0   \n",
            "education_level          3047.0   8.442402    844.24   4.183718   1.0   \n",
            "province_code            3063.0  58.303950   5830.40  24.337492  11.0   \n",
            "\n",
            "                               max  \n",
            "renewable_use             1.000000  \n",
            "digital_payment           1.000000  \n",
            "ecommerce_participation   1.000000  \n",
            "digital_participation     1.000000  \n",
            "log_income                2.079442  \n",
            "urban_dummy               1.000000  \n",
            "education_level          99.000000  \n",
            "province_code            94.000000  \n"
          ]
        }
      ]
    },
    {
      "cell_type": "code",
      "source": [
        "# Baseline models (LPM + penalized logit)\n",
        "import statsmodels.formula.api as smf\n",
        "import statsmodels.api as sm\n",
        "\n",
        "d = pd.read_csv(\"dehs2020_masterdataset.csv\")\n",
        "\n",
        "# RHS builder\n",
        "digital_rhs = [c for c in [\"digital_payment\",\"ecommerce_participation\"] if c in d.columns]\n",
        "if not digital_rhs and \"digital_participation\" in d.columns:\n",
        "  digital_rhs = [\"digital_participation\"]\n",
        "\n",
        "controls = [c for c in [\"log_income\",\"urban_dummy\",\"education_level\",\"province_code\"] if c in d.columns]\n",
        "rhs = \" + \".join(digital_rhs + [c for c in controls if c!=\"province_code\"] + ([\"C(province_code)\"] if \"province_code\" in controls else []))\n",
        "\n",
        "dm = d.dropna(subset=[\"renewable_use\"] + digital_rhs + [c for c in controls if c!=\"province_code\"] + ([\"province_code\"] if \"province_code\" in controls else []))\n",
        "\n",
        "print(\"N (analysis sample):\", len(dm), \"| renewable_use mean:\", dm[\"renewable_use\"].mean().round(4))\n",
        "\n",
        "# LPM (robust SE)\n",
        "lpm = smf.ols(f\"renewable_use ~ {rhs}\", data=dm).fit(cov_type=\"HC1\")\n",
        "print(lpm.summary())\n",
        "\n",
        "# Penalized logit (L2) to handle rare outcome / separation\n",
        "# Build design matrices from formula (evaluate once)\n",
        "logit_model = smf.logit(f\"renewable_use ~ {rhs}\", data=dm)\n",
        "y, X = logit_model.endog, sm.add_constant(logit_model.exog, has_constant='add')\n",
        "\n",
        "# L2 penalty via fit_regularized (alpha is penalty strength; tune 0.1-5.0)\n",
        "logit_pen = sm.Logit(y, X).fit_regularized(alpha=1.0, L1_wt=0.0, maxiter=200)\n",
        "print(\"\\nPenalized logit coefficients:\\n\", pd.Series(logit_pen.params, index=[\"const\"]+logit_model.exog_names))\n",
        "\n",
        "# Clustered SE for LPM by province\n",
        "if \"province_code\" in dm.columns:\n",
        "  lpm_cl = smf.ols(f\"renewable_use ~ {rhs}\", data=dm).fit(\n",
        "      cov_type=\"cluster\", cov_kwds={\"groups\": dm[\"province_code\"]}\n",
        "  )\n",
        "  print(\"\\nLPM with province-clustered SE:\\n\", lpm_cl.summary())"
      ],
      "metadata": {
        "colab": {
          "base_uri": "https://localhost:8080/"
        },
        "id": "QAdF49t0SCqo",
        "outputId": "7993cca2-ce08-4f48-fed5-d4a8fa12637e"
      },
      "execution_count": null,
      "outputs": [
        {
          "output_type": "stream",
          "name": "stdout",
          "text": [
            "N (analysis sample): 191 | renewable_use mean: 0.0\n",
            "                            OLS Regression Results                            \n",
            "==============================================================================\n",
            "Dep. Variable:          renewable_use   R-squared:                         nan\n",
            "Model:                            OLS   Adj. R-squared:                    nan\n",
            "Method:                 Least Squares   F-statistic:                       nan\n",
            "Date:                Mon, 13 Oct 2025   Prob (F-statistic):                nan\n",
            "Time:                        07:12:00   Log-Likelihood:                    inf\n",
            "No. Observations:                 191   AIC:                              -inf\n",
            "Df Residuals:                     160   BIC:                              -inf\n",
            "Df Model:                          30                                         \n",
            "Covariance Type:                  HC1                                         \n",
            "===========================================================================================\n",
            "                              coef    std err          z      P>|z|      [0.025      0.975]\n",
            "-------------------------------------------------------------------------------------------\n",
            "Intercept                        0          0        nan        nan           0           0\n",
            "C(province_code)[T.12]           0          0        nan        nan           0           0\n",
            "C(province_code)[T.13]           0          0        nan        nan           0           0\n",
            "C(province_code)[T.15]           0          0        nan        nan           0           0\n",
            "C(province_code)[T.16]           0          0        nan        nan           0           0\n",
            "C(province_code)[T.17]           0          0        nan        nan           0           0\n",
            "C(province_code)[T.18]           0          0        nan        nan           0           0\n",
            "C(province_code)[T.19]           0          0        nan        nan           0           0\n",
            "C(province_code)[T.31]           0          0        nan        nan           0           0\n",
            "C(province_code)[T.32]           0          0        nan        nan           0           0\n",
            "C(province_code)[T.33]           0          0        nan        nan           0           0\n",
            "C(province_code)[T.35]           0          0        nan        nan           0           0\n",
            "C(province_code)[T.36]           0          0        nan        nan           0           0\n",
            "C(province_code)[T.52]           0          0        nan        nan           0           0\n",
            "C(province_code)[T.53]           0          0        nan        nan           0           0\n",
            "C(province_code)[T.61]           0          0        nan        nan           0           0\n",
            "C(province_code)[T.62]           0          0        nan        nan           0           0\n",
            "C(province_code)[T.63]           0          0        nan        nan           0           0\n",
            "C(province_code)[T.64]           0          0        nan        nan           0           0\n",
            "C(province_code)[T.71]           0          0        nan        nan           0           0\n",
            "C(province_code)[T.72]           0          0        nan        nan           0           0\n",
            "C(province_code)[T.73]           0          0        nan        nan           0           0\n",
            "C(province_code)[T.74]           0          0        nan        nan           0           0\n",
            "C(province_code)[T.81]           0          0        nan        nan           0           0\n",
            "C(province_code)[T.91]           0          0        nan        nan           0           0\n",
            "C(province_code)[T.94]           0          0        nan        nan           0           0\n",
            "digital_payment                  0          0        nan        nan           0           0\n",
            "ecommerce_participation          0          0        nan        nan           0           0\n",
            "log_income                       0          0        nan        nan           0           0\n",
            "urban_dummy                      0          0        nan        nan           0           0\n",
            "education_level                  0          0        nan        nan           0           0\n",
            "==============================================================================\n",
            "Omnibus:                          nan   Durbin-Watson:                     nan\n",
            "Prob(Omnibus):                    nan   Jarque-Bera (JB):                  nan\n",
            "Skew:                             nan   Prob(JB):                          nan\n",
            "Kurtosis:                         nan   Cond. No.                         451.\n",
            "==============================================================================\n",
            "\n",
            "Notes:\n",
            "[1] Standard Errors are heteroscedasticity robust (HC1)\n",
            "Optimization terminated successfully    (Exit mode 0)\n",
            "            Current function value: 0.009359822138437324\n",
            "            Iterations: 18\n",
            "            Function evaluations: 20\n",
            "            Gradient evaluations: 18\n",
            "\n",
            "Penalized logit coefficients:\n",
            " const                      0.000000\n",
            "Intercept                  0.000000\n",
            "C(province_code)[T.12]     0.000000\n",
            "C(province_code)[T.13]     0.000000\n",
            "C(province_code)[T.15]     0.000000\n",
            "C(province_code)[T.16]     0.000000\n",
            "C(province_code)[T.17]     0.000000\n",
            "C(province_code)[T.18]     0.000000\n",
            "C(province_code)[T.19]     0.000000\n",
            "C(province_code)[T.31]     0.000000\n",
            "C(province_code)[T.32]     0.000000\n",
            "C(province_code)[T.33]     0.000000\n",
            "C(province_code)[T.35]     0.000000\n",
            "C(province_code)[T.36]     0.000000\n",
            "C(province_code)[T.52]     0.000000\n",
            "C(province_code)[T.53]     0.000000\n",
            "C(province_code)[T.61]     0.000000\n",
            "C(province_code)[T.62]     0.000000\n",
            "C(province_code)[T.63]     0.000000\n",
            "C(province_code)[T.64]     0.000000\n",
            "C(province_code)[T.71]     0.000000\n",
            "C(province_code)[T.72]     0.000000\n",
            "C(province_code)[T.73]     0.000000\n",
            "C(province_code)[T.74]     0.000000\n",
            "C(province_code)[T.81]     0.000000\n",
            "C(province_code)[T.91]     0.000000\n",
            "C(province_code)[T.94]     0.000000\n",
            "digital_payment            0.000000\n",
            "ecommerce_participation    0.000000\n",
            "log_income                 0.000000\n",
            "urban_dummy                0.000000\n",
            "education_level           -1.109901\n",
            "dtype: float64\n",
            "\n",
            "LPM with province-clustered SE:\n",
            "                             OLS Regression Results                            \n",
            "==============================================================================\n",
            "Dep. Variable:          renewable_use   R-squared:                         nan\n",
            "Model:                            OLS   Adj. R-squared:                    nan\n",
            "Method:                 Least Squares   F-statistic:                       nan\n",
            "Date:                Mon, 13 Oct 2025   Prob (F-statistic):                nan\n",
            "Time:                        07:12:00   Log-Likelihood:                    inf\n",
            "No. Observations:                 191   AIC:                              -inf\n",
            "Df Residuals:                     160   BIC:                              -inf\n",
            "Df Model:                          30                                         \n",
            "Covariance Type:              cluster                                         \n",
            "===========================================================================================\n",
            "                              coef    std err          z      P>|z|      [0.025      0.975]\n",
            "-------------------------------------------------------------------------------------------\n",
            "Intercept                        0          0        nan        nan           0           0\n",
            "C(province_code)[T.12]           0          0        nan        nan           0           0\n",
            "C(province_code)[T.13]           0          0        nan        nan           0           0\n",
            "C(province_code)[T.15]           0          0        nan        nan           0           0\n",
            "C(province_code)[T.16]           0          0        nan        nan           0           0\n",
            "C(province_code)[T.17]           0          0        nan        nan           0           0\n",
            "C(province_code)[T.18]           0          0        nan        nan           0           0\n",
            "C(province_code)[T.19]           0          0        nan        nan           0           0\n",
            "C(province_code)[T.31]           0          0        nan        nan           0           0\n",
            "C(province_code)[T.32]           0          0        nan        nan           0           0\n",
            "C(province_code)[T.33]           0          0        nan        nan           0           0\n",
            "C(province_code)[T.35]           0          0        nan        nan           0           0\n",
            "C(province_code)[T.36]           0          0        nan        nan           0           0\n",
            "C(province_code)[T.52]           0          0        nan        nan           0           0\n",
            "C(province_code)[T.53]           0          0        nan        nan           0           0\n",
            "C(province_code)[T.61]           0          0        nan        nan           0           0\n",
            "C(province_code)[T.62]           0          0        nan        nan           0           0\n",
            "C(province_code)[T.63]           0          0        nan        nan           0           0\n",
            "C(province_code)[T.64]           0          0        nan        nan           0           0\n",
            "C(province_code)[T.71]           0          0        nan        nan           0           0\n",
            "C(province_code)[T.72]           0          0        nan        nan           0           0\n",
            "C(province_code)[T.73]           0          0        nan        nan           0           0\n",
            "C(province_code)[T.74]           0          0        nan        nan           0           0\n",
            "C(province_code)[T.81]           0          0        nan        nan           0           0\n",
            "C(province_code)[T.91]           0          0        nan        nan           0           0\n",
            "C(province_code)[T.94]           0          0        nan        nan           0           0\n",
            "digital_payment                  0          0        nan        nan           0           0\n",
            "ecommerce_participation          0          0        nan        nan           0           0\n",
            "log_income                       0          0        nan        nan           0           0\n",
            "urban_dummy                      0          0        nan        nan           0           0\n",
            "education_level                  0          0        nan        nan           0           0\n",
            "==============================================================================\n",
            "Omnibus:                          nan   Durbin-Watson:                     nan\n",
            "Prob(Omnibus):                    nan   Jarque-Bera (JB):                  nan\n",
            "Skew:                             nan   Prob(JB):                          nan\n",
            "Kurtosis:                         nan   Cond. No.                         451.\n",
            "==============================================================================\n",
            "\n",
            "Notes:\n",
            "[1] Standard Errors are robust to cluster correlation (cluster)\n"
          ]
        },
        {
          "output_type": "stream",
          "name": "stderr",
          "text": [
            "/usr/local/lib/python3.12/dist-packages/statsmodels/regression/linear_model.py:1782: RuntimeWarning: invalid value encountered in scalar divide\n",
            "  return 1 - self.ssr/self.centered_tss\n",
            "/usr/local/lib/python3.12/dist-packages/statsmodels/base/model.py:1894: ValueWarning: covariance of constraints does not have full rank. The number of constraints is 30, but rank is 0\n",
            "  warnings.warn('covariance of constraints does not have full '\n",
            "/usr/local/lib/python3.12/dist-packages/statsmodels/base/model.py:1923: RuntimeWarning: invalid value encountered in divide\n",
            "  F /= J\n",
            "/usr/local/lib/python3.12/dist-packages/statsmodels/regression/linear_model.py:955: RuntimeWarning: divide by zero encountered in log\n",
            "  llf = -nobs2*np.log(2*np.pi) - nobs2*np.log(ssr / nobs) - nobs2\n",
            "/usr/local/lib/python3.12/dist-packages/statsmodels/stats/stattools.py:50: RuntimeWarning: invalid value encountered in scalar divide\n",
            "  dw = np.sum(diff_resids**2, axis=axis) / np.sum(resids**2, axis=axis)\n",
            "/usr/local/lib/python3.12/dist-packages/statsmodels/regression/linear_model.py:1782: RuntimeWarning: invalid value encountered in scalar divide\n",
            "  return 1 - self.ssr/self.centered_tss\n",
            "/usr/local/lib/python3.12/dist-packages/statsmodels/base/model.py:1894: ValueWarning: covariance of constraints does not have full rank. The number of constraints is 30, but rank is 0\n",
            "  warnings.warn('covariance of constraints does not have full '\n",
            "/usr/local/lib/python3.12/dist-packages/statsmodels/base/model.py:1923: RuntimeWarning: invalid value encountered in divide\n",
            "  F /= J\n",
            "/usr/local/lib/python3.12/dist-packages/statsmodels/regression/linear_model.py:955: RuntimeWarning: divide by zero encountered in log\n",
            "  llf = -nobs2*np.log(2*np.pi) - nobs2*np.log(ssr / nobs) - nobs2\n",
            "/usr/local/lib/python3.12/dist-packages/statsmodels/stats/stattools.py:50: RuntimeWarning: invalid value encountered in scalar divide\n",
            "  dw = np.sum(diff_resids**2, axis=axis) / np.sum(resids**2, axis=axis)\n"
          ]
        }
      ]
    },
    {
      "cell_type": "code",
      "source": [
        "# heterogeneity (income or rural)\n",
        "# Interactions\n",
        "if set([\"log_income\",\"digital_participation\"]).issubset(dm.columns):\n",
        "  lpm_int = smf.ols(\"renewable_use ~ digital_participation*log_income + urban_dummy + education_level + C(province_code)\", data=dm).fit(cov_type=\"HC1\")\n",
        "  print(lpm_int.summary())\n",
        "\n",
        "# Rural only\n",
        "if \"urban_dummy\" in dm.columns:\n",
        "  dm_rural = dm[dm[\"urban_dummy\"]==0].copy()\n",
        "  if len(dm_rural) >50:\n",
        "    lpm_rural = smf.ols(f\"renewable_use ~ {rhs}\", data=dm_rural).fit(cov_type=\"HC1\")\n",
        "    print(\"\\nRural only LPM:\\n\", lpm_rural.summary())"
      ],
      "metadata": {
        "colab": {
          "base_uri": "https://localhost:8080/"
        },
        "id": "kfHcllQZagGu",
        "outputId": "e6ca088e-de56-4ba7-ec21-5748ff4971b6"
      },
      "execution_count": null,
      "outputs": [
        {
          "output_type": "stream",
          "name": "stdout",
          "text": [
            "                            OLS Regression Results                            \n",
            "==============================================================================\n",
            "Dep. Variable:          renewable_use   R-squared:                         nan\n",
            "Model:                            OLS   Adj. R-squared:                    nan\n",
            "Method:                 Least Squares   F-statistic:                       nan\n",
            "Date:                Mon, 13 Oct 2025   Prob (F-statistic):                nan\n",
            "Time:                        07:18:27   Log-Likelihood:                    inf\n",
            "No. Observations:                 191   AIC:                              -inf\n",
            "Df Residuals:                     160   BIC:                              -inf\n",
            "Df Model:                          30                                         \n",
            "Covariance Type:                  HC1                                         \n",
            "====================================================================================================\n",
            "                                       coef    std err          z      P>|z|      [0.025      0.975]\n",
            "----------------------------------------------------------------------------------------------------\n",
            "Intercept                                 0          0        nan        nan           0           0\n",
            "C(province_code)[T.12]                    0          0        nan        nan           0           0\n",
            "C(province_code)[T.13]                    0          0        nan        nan           0           0\n",
            "C(province_code)[T.15]                    0          0        nan        nan           0           0\n",
            "C(province_code)[T.16]                    0          0        nan        nan           0           0\n",
            "C(province_code)[T.17]                    0          0        nan        nan           0           0\n",
            "C(province_code)[T.18]                    0          0        nan        nan           0           0\n",
            "C(province_code)[T.19]                    0          0        nan        nan           0           0\n",
            "C(province_code)[T.31]                    0          0        nan        nan           0           0\n",
            "C(province_code)[T.32]                    0          0        nan        nan           0           0\n",
            "C(province_code)[T.33]                    0          0        nan        nan           0           0\n",
            "C(province_code)[T.35]                    0          0        nan        nan           0           0\n",
            "C(province_code)[T.36]                    0          0        nan        nan           0           0\n",
            "C(province_code)[T.52]                    0          0        nan        nan           0           0\n",
            "C(province_code)[T.53]                    0          0        nan        nan           0           0\n",
            "C(province_code)[T.61]                    0          0        nan        nan           0           0\n",
            "C(province_code)[T.62]                    0          0        nan        nan           0           0\n",
            "C(province_code)[T.63]                    0          0        nan        nan           0           0\n",
            "C(province_code)[T.64]                    0          0        nan        nan           0           0\n",
            "C(province_code)[T.71]                    0          0        nan        nan           0           0\n",
            "C(province_code)[T.72]                    0          0        nan        nan           0           0\n",
            "C(province_code)[T.73]                    0          0        nan        nan           0           0\n",
            "C(province_code)[T.74]                    0          0        nan        nan           0           0\n",
            "C(province_code)[T.81]                    0          0        nan        nan           0           0\n",
            "C(province_code)[T.91]                    0          0        nan        nan           0           0\n",
            "C(province_code)[T.94]                    0          0        nan        nan           0           0\n",
            "digital_participation                     0          0        nan        nan           0           0\n",
            "log_income                                0          0        nan        nan           0           0\n",
            "digital_participation:log_income          0          0        nan        nan           0           0\n",
            "urban_dummy                               0          0        nan        nan           0           0\n",
            "education_level                           0          0        nan        nan           0           0\n",
            "==============================================================================\n",
            "Omnibus:                          nan   Durbin-Watson:                     nan\n",
            "Prob(Omnibus):                    nan   Jarque-Bera (JB):                  nan\n",
            "Skew:                             nan   Prob(JB):                          nan\n",
            "Kurtosis:                         nan   Cond. No.                         452.\n",
            "==============================================================================\n",
            "\n",
            "Notes:\n",
            "[1] Standard Errors are heteroscedasticity robust (HC1)\n"
          ]
        },
        {
          "output_type": "stream",
          "name": "stderr",
          "text": [
            "/usr/local/lib/python3.12/dist-packages/statsmodels/regression/linear_model.py:1782: RuntimeWarning: invalid value encountered in scalar divide\n",
            "  return 1 - self.ssr/self.centered_tss\n",
            "/usr/local/lib/python3.12/dist-packages/statsmodels/base/model.py:1894: ValueWarning: covariance of constraints does not have full rank. The number of constraints is 30, but rank is 0\n",
            "  warnings.warn('covariance of constraints does not have full '\n",
            "/usr/local/lib/python3.12/dist-packages/statsmodels/base/model.py:1923: RuntimeWarning: invalid value encountered in divide\n",
            "  F /= J\n",
            "/usr/local/lib/python3.12/dist-packages/statsmodels/regression/linear_model.py:955: RuntimeWarning: divide by zero encountered in log\n",
            "  llf = -nobs2*np.log(2*np.pi) - nobs2*np.log(ssr / nobs) - nobs2\n",
            "/usr/local/lib/python3.12/dist-packages/statsmodels/stats/stattools.py:50: RuntimeWarning: invalid value encountered in scalar divide\n",
            "  dw = np.sum(diff_resids**2, axis=axis) / np.sum(resids**2, axis=axis)\n"
          ]
        }
      ]
    },
    {
      "cell_type": "code",
      "source": [
        "# Export clean tables (for markdown)\n",
        "def simple_table(result, title=\"Table\", roundto=3):\n",
        "  coefs = result.params.round(roundto)\n",
        "  ses = result.bse.round(roundto) if hasattr(result, \"bse\") else None\n",
        "  rows = []\n",
        "  for name in coefs.index:\n",
        "    if name == \"intercept\" or name == \"const\":\n",
        "      label = \"Constant\"\n",
        "    else:\n",
        "      label = name\n",
        "    if ses is not None and name in ses.index:\n",
        "      rows.append(f\"| {label} | {coefs[name]} | |\")\n",
        "  header = f\"### {title}\\n\\n| Variable | Coef. | SE |\\n|---|---:|---:|\\n\"\n",
        "  return header + \"\\n\".join(rows)\n",
        "\n",
        "print(simple_table(lpm, \"Baseline LPM (HC1)\"))\n",
        "if \"lpm_cl\" in locals():\n",
        "    print(simple_table(lpm_cl, \"Baseline LPM (Province-clustered)\"))"
      ],
      "metadata": {
        "colab": {
          "base_uri": "https://localhost:8080/"
        },
        "id": "CkSHmmQmb4Uc",
        "outputId": "46f403df-3b69-466f-d5c0-564dc31082ea"
      },
      "execution_count": null,
      "outputs": [
        {
          "output_type": "stream",
          "name": "stdout",
          "text": [
            "### Baseline LPM (HC1)\n",
            "\n",
            "| Variable | Coef. | SE |\n",
            "|---|---:|---:|\n",
            "| Intercept | 0.0 | |\n",
            "| C(province_code)[T.12] | 0.0 | |\n",
            "| C(province_code)[T.13] | 0.0 | |\n",
            "| C(province_code)[T.15] | 0.0 | |\n",
            "| C(province_code)[T.16] | 0.0 | |\n",
            "| C(province_code)[T.17] | 0.0 | |\n",
            "| C(province_code)[T.18] | 0.0 | |\n",
            "| C(province_code)[T.19] | 0.0 | |\n",
            "| C(province_code)[T.31] | 0.0 | |\n",
            "| C(province_code)[T.32] | 0.0 | |\n",
            "| C(province_code)[T.33] | 0.0 | |\n",
            "| C(province_code)[T.35] | 0.0 | |\n",
            "| C(province_code)[T.36] | 0.0 | |\n",
            "| C(province_code)[T.52] | 0.0 | |\n",
            "| C(province_code)[T.53] | 0.0 | |\n",
            "| C(province_code)[T.61] | 0.0 | |\n",
            "| C(province_code)[T.62] | 0.0 | |\n",
            "| C(province_code)[T.63] | 0.0 | |\n",
            "| C(province_code)[T.64] | 0.0 | |\n",
            "| C(province_code)[T.71] | 0.0 | |\n",
            "| C(province_code)[T.72] | 0.0 | |\n",
            "| C(province_code)[T.73] | 0.0 | |\n",
            "| C(province_code)[T.74] | 0.0 | |\n",
            "| C(province_code)[T.81] | 0.0 | |\n",
            "| C(province_code)[T.91] | 0.0 | |\n",
            "| C(province_code)[T.94] | 0.0 | |\n",
            "| digital_payment | 0.0 | |\n",
            "| ecommerce_participation | 0.0 | |\n",
            "| log_income | 0.0 | |\n",
            "| urban_dummy | 0.0 | |\n",
            "| education_level | 0.0 | |\n",
            "### Baseline LPM (Province-clustered)\n",
            "\n",
            "| Variable | Coef. | SE |\n",
            "|---|---:|---:|\n",
            "| Intercept | 0.0 | |\n",
            "| C(province_code)[T.12] | 0.0 | |\n",
            "| C(province_code)[T.13] | 0.0 | |\n",
            "| C(province_code)[T.15] | 0.0 | |\n",
            "| C(province_code)[T.16] | 0.0 | |\n",
            "| C(province_code)[T.17] | 0.0 | |\n",
            "| C(province_code)[T.18] | 0.0 | |\n",
            "| C(province_code)[T.19] | 0.0 | |\n",
            "| C(province_code)[T.31] | 0.0 | |\n",
            "| C(province_code)[T.32] | 0.0 | |\n",
            "| C(province_code)[T.33] | 0.0 | |\n",
            "| C(province_code)[T.35] | 0.0 | |\n",
            "| C(province_code)[T.36] | 0.0 | |\n",
            "| C(province_code)[T.52] | 0.0 | |\n",
            "| C(province_code)[T.53] | 0.0 | |\n",
            "| C(province_code)[T.61] | 0.0 | |\n",
            "| C(province_code)[T.62] | 0.0 | |\n",
            "| C(province_code)[T.63] | 0.0 | |\n",
            "| C(province_code)[T.64] | 0.0 | |\n",
            "| C(province_code)[T.71] | 0.0 | |\n",
            "| C(province_code)[T.72] | 0.0 | |\n",
            "| C(province_code)[T.73] | 0.0 | |\n",
            "| C(province_code)[T.74] | 0.0 | |\n",
            "| C(province_code)[T.81] | 0.0 | |\n",
            "| C(province_code)[T.91] | 0.0 | |\n",
            "| C(province_code)[T.94] | 0.0 | |\n",
            "| digital_payment | 0.0 | |\n",
            "| ecommerce_participation | 0.0 | |\n",
            "| log_income | 0.0 | |\n",
            "| urban_dummy | 0.0 | |\n",
            "| education_level | 0.0 | |\n"
          ]
        }
      ]
    },
    {
      "cell_type": "code",
      "source": [
        "# Regression troubleshooting\n",
        "# Dependent variable (renewable_use) has no variation and the regression couldnt estimate anything meaningful\n",
        "# Check if renewable_use actually varies\n",
        "dm[\"renewable_use\"].value_counts(dropna=False)"
      ],
      "metadata": {
        "colab": {
          "base_uri": "https://localhost:8080/",
          "height": 147
        },
        "id": "Ea-96fh1sc7s",
        "outputId": "c171c11a-f429-491f-a7ae-4ddbf78782c3"
      },
      "execution_count": null,
      "outputs": [
        {
          "output_type": "execute_result",
          "data": {
            "text/plain": [
              "renewable_use\n",
              "0.0    191\n",
              "Name: count, dtype: int64"
            ],
            "text/html": [
              "<div>\n",
              "<style scoped>\n",
              "    .dataframe tbody tr th:only-of-type {\n",
              "        vertical-align: middle;\n",
              "    }\n",
              "\n",
              "    .dataframe tbody tr th {\n",
              "        vertical-align: top;\n",
              "    }\n",
              "\n",
              "    .dataframe thead th {\n",
              "        text-align: right;\n",
              "    }\n",
              "</style>\n",
              "<table border=\"1\" class=\"dataframe\">\n",
              "  <thead>\n",
              "    <tr style=\"text-align: right;\">\n",
              "      <th></th>\n",
              "      <th>count</th>\n",
              "    </tr>\n",
              "    <tr>\n",
              "      <th>renewable_use</th>\n",
              "      <th></th>\n",
              "    </tr>\n",
              "  </thead>\n",
              "  <tbody>\n",
              "    <tr>\n",
              "      <th>0.0</th>\n",
              "      <td>191</td>\n",
              "    </tr>\n",
              "  </tbody>\n",
              "</table>\n",
              "</div><br><label><b>dtype:</b> int64</label>"
            ]
          },
          "metadata": {},
          "execution_count": 52
        }
      ]
    },
    {
      "cell_type": "code",
      "source": [
        "# Every observation is non-renewable ir. renewable_use = 0 for all households\n",
        "# Investigate raw variable\n",
        "print(hh[\"m1_vi_35\"].value_counts(dropna=False))"
      ],
      "metadata": {
        "colab": {
          "base_uri": "https://localhost:8080/"
        },
        "id": "vkmylz3is5_T",
        "outputId": "eeb06dd2-1d6e-41df-b110-65c2255366b4"
      },
      "execution_count": null,
      "outputs": [
        {
          "output_type": "stream",
          "name": "stdout",
          "text": [
            "m1_vi_35\n",
            "1    3026\n",
            "2      28\n",
            "3       9\n",
            "Name: count, dtype: int64\n"
          ]
        }
      ]
    },
    {
      "cell_type": "code",
      "source": [
        "# Seems like when the dataset was merged and cleanred, the regression sample (dm) dropped all the 2s and 3s so the regression coefficients are all 0\n",
        "# Confrim which households were dropped\n",
        "print(hh_sub[\"renewable_use\"].value_counts(dropna=False))\n",
        "print(d[\"renewable_use\"].value_counts(dropna=False))\n",
        "print(dm[\"renewable_use\"].value_counts(dropna=False))"
      ],
      "metadata": {
        "colab": {
          "base_uri": "https://localhost:8080/"
        },
        "id": "hBVhs5U1taww",
        "outputId": "bc22446a-89a8-4aa9-9038-8fb7adbc0a24"
      },
      "execution_count": null,
      "outputs": [
        {
          "output_type": "stream",
          "name": "stdout",
          "text": [
            "renewable_use\n",
            "0.0    3026\n",
            "1.0      28\n",
            "NaN       9\n",
            "Name: count, dtype: int64\n",
            "renewable_use\n",
            "0.0    3026\n",
            "1.0      28\n",
            "NaN       9\n",
            "Name: count, dtype: int64\n",
            "renewable_use\n",
            "0.0    191\n",
            "Name: count, dtype: int64\n"
          ]
        }
      ]
    },
    {
      "cell_type": "code",
      "source": [
        "# Adjust the dependent variable definition\n",
        "# Recode the renewable variable more inclusively: 1=PLN(on-grid), 2=Non-PLN(off-grid), 3=PLN+Non-PLN(hybrid)\n",
        "hh_sub[\"renewable_use\"] = hh_sub[\"lighting_source\"].map({1: 0, 2: 1, 3: 1})\n",
        "\n",
        "hh_sub[\"renewable_use\"].value_counts(dropna=False)"
      ],
      "metadata": {
        "colab": {
          "base_uri": "https://localhost:8080/",
          "height": 178
        },
        "id": "JB_TYE2MutoU",
        "outputId": "ca8612fa-1dd5-41d4-a74b-d45f54e6a7ad"
      },
      "execution_count": null,
      "outputs": [
        {
          "output_type": "execute_result",
          "data": {
            "text/plain": [
              "renewable_use\n",
              "0    3026\n",
              "1      37\n",
              "Name: count, dtype: int64"
            ],
            "text/html": [
              "<div>\n",
              "<style scoped>\n",
              "    .dataframe tbody tr th:only-of-type {\n",
              "        vertical-align: middle;\n",
              "    }\n",
              "\n",
              "    .dataframe tbody tr th {\n",
              "        vertical-align: top;\n",
              "    }\n",
              "\n",
              "    .dataframe thead th {\n",
              "        text-align: right;\n",
              "    }\n",
              "</style>\n",
              "<table border=\"1\" class=\"dataframe\">\n",
              "  <thead>\n",
              "    <tr style=\"text-align: right;\">\n",
              "      <th></th>\n",
              "      <th>count</th>\n",
              "    </tr>\n",
              "    <tr>\n",
              "      <th>renewable_use</th>\n",
              "      <th></th>\n",
              "    </tr>\n",
              "  </thead>\n",
              "  <tbody>\n",
              "    <tr>\n",
              "      <th>0</th>\n",
              "      <td>3026</td>\n",
              "    </tr>\n",
              "    <tr>\n",
              "      <th>1</th>\n",
              "      <td>37</td>\n",
              "    </tr>\n",
              "  </tbody>\n",
              "</table>\n",
              "</div><br><label><b>dtype:</b> int64</label>"
            ]
          },
          "metadata": {},
          "execution_count": 55
        }
      ]
    },
    {
      "cell_type": "code",
      "source": [
        "# Re-merge and re-run regression\n",
        "df = hh_sub.merge(edu_hh, on=\"hhid_key\", how=\"left\")\n",
        "df.to_csv(\"dehs2020_masterdataset.csv\", index=False)\n",
        "\n",
        "# Same LPM model code as before\n",
        "lpm = smf.ols(f\"renewable_use ~ {rhs}\", data=df).fit(cov_type=\"HC1\")\n",
        "print(lpm.summary())"
      ],
      "metadata": {
        "colab": {
          "base_uri": "https://localhost:8080/"
        },
        "id": "QBpNi5CNutey",
        "outputId": "86a77b96-76e8-4e10-c1a1-aa6bd63bf7b6"
      },
      "execution_count": null,
      "outputs": [
        {
          "output_type": "stream",
          "name": "stdout",
          "text": [
            "                            OLS Regression Results                            \n",
            "==============================================================================\n",
            "Dep. Variable:          renewable_use   R-squared:                         nan\n",
            "Model:                            OLS   Adj. R-squared:                    nan\n",
            "Method:                 Least Squares   F-statistic:                       nan\n",
            "Date:                Mon, 13 Oct 2025   Prob (F-statistic):                nan\n",
            "Time:                        08:46:24   Log-Likelihood:                    inf\n",
            "No. Observations:                 191   AIC:                              -inf\n",
            "Df Residuals:                     160   BIC:                              -inf\n",
            "Df Model:                          30                                         \n",
            "Covariance Type:                  HC1                                         \n",
            "===========================================================================================\n",
            "                              coef    std err          z      P>|z|      [0.025      0.975]\n",
            "-------------------------------------------------------------------------------------------\n",
            "Intercept                        0          0        nan        nan           0           0\n",
            "C(province_code)[T.12]           0          0        nan        nan           0           0\n",
            "C(province_code)[T.13]           0          0        nan        nan           0           0\n",
            "C(province_code)[T.15]           0          0        nan        nan           0           0\n",
            "C(province_code)[T.16]           0          0        nan        nan           0           0\n",
            "C(province_code)[T.17]           0          0        nan        nan           0           0\n",
            "C(province_code)[T.18]           0          0        nan        nan           0           0\n",
            "C(province_code)[T.19]           0          0        nan        nan           0           0\n",
            "C(province_code)[T.31]           0          0        nan        nan           0           0\n",
            "C(province_code)[T.32]           0          0        nan        nan           0           0\n",
            "C(province_code)[T.33]           0          0        nan        nan           0           0\n",
            "C(province_code)[T.35]           0          0        nan        nan           0           0\n",
            "C(province_code)[T.36]           0          0        nan        nan           0           0\n",
            "C(province_code)[T.52]           0          0        nan        nan           0           0\n",
            "C(province_code)[T.53]           0          0        nan        nan           0           0\n",
            "C(province_code)[T.61]           0          0        nan        nan           0           0\n",
            "C(province_code)[T.62]           0          0        nan        nan           0           0\n",
            "C(province_code)[T.63]           0          0        nan        nan           0           0\n",
            "C(province_code)[T.64]           0          0        nan        nan           0           0\n",
            "C(province_code)[T.71]           0          0        nan        nan           0           0\n",
            "C(province_code)[T.72]           0          0        nan        nan           0           0\n",
            "C(province_code)[T.73]           0          0        nan        nan           0           0\n",
            "C(province_code)[T.74]           0          0        nan        nan           0           0\n",
            "C(province_code)[T.81]           0          0        nan        nan           0           0\n",
            "C(province_code)[T.82]           0          0        nan        nan           0           0\n",
            "C(province_code)[T.91]           0          0        nan        nan           0           0\n",
            "C(province_code)[T.94]           0          0        nan        nan           0           0\n",
            "digital_payment                  0          0        nan        nan           0           0\n",
            "ecommerce_participation          0          0        nan        nan           0           0\n",
            "log_income                       0          0        nan        nan           0           0\n",
            "urban_dummy                      0          0        nan        nan           0           0\n",
            "education_level                  0          0        nan        nan           0           0\n",
            "==============================================================================\n",
            "Omnibus:                          nan   Durbin-Watson:                     nan\n",
            "Prob(Omnibus):                    nan   Jarque-Bera (JB):                  nan\n",
            "Skew:                             nan   Prob(JB):                          nan\n",
            "Kurtosis:                         nan   Cond. No.                     1.05e+16\n",
            "==============================================================================\n",
            "\n",
            "Notes:\n",
            "[1] Standard Errors are heteroscedasticity robust (HC1)\n",
            "[2] The smallest eigenvalue is 1.99e-28. This might indicate that there are\n",
            "strong multicollinearity problems or that the design matrix is singular.\n"
          ]
        },
        {
          "output_type": "stream",
          "name": "stderr",
          "text": [
            "/usr/local/lib/python3.12/dist-packages/statsmodels/regression/linear_model.py:1782: RuntimeWarning: invalid value encountered in scalar divide\n",
            "  return 1 - self.ssr/self.centered_tss\n",
            "/usr/local/lib/python3.12/dist-packages/statsmodels/base/model.py:1894: ValueWarning: covariance of constraints does not have full rank. The number of constraints is 31, but rank is 0\n",
            "  warnings.warn('covariance of constraints does not have full '\n",
            "/usr/local/lib/python3.12/dist-packages/statsmodels/base/model.py:1923: RuntimeWarning: invalid value encountered in divide\n",
            "  F /= J\n",
            "/usr/local/lib/python3.12/dist-packages/statsmodels/regression/linear_model.py:955: RuntimeWarning: divide by zero encountered in log\n",
            "  llf = -nobs2*np.log(2*np.pi) - nobs2*np.log(ssr / nobs) - nobs2\n",
            "/usr/local/lib/python3.12/dist-packages/statsmodels/stats/stattools.py:50: RuntimeWarning: invalid value encountered in scalar divide\n",
            "  dw = np.sum(diff_resids**2, axis=axis) / np.sum(resids**2, axis=axis)\n"
          ]
        }
      ]
    },
    {
      "cell_type": "code",
      "source": [
        "# The regression is still collapsing even though m1_vi_35 has been recoded to include 2 and 3 as renewable; the regression sample (dm, 191 obs) still contains only 0s\n",
        "# Quick diagnostic\n",
        "# Check overall dataset before filtering\n",
        "print(df[\"renewable_use\"].value_counts(dropna=False))\n",
        "\n",
        "# Check modeling sample after dropna\n",
        "print(dm[\"renewable_use\"].value_counts(dropna=False))\n",
        "\n",
        "# See what rows got dropped\n",
        "print(len(df), \"total rows in df\")\n",
        "print(len(dm), \"rows used in regression\")"
      ],
      "metadata": {
        "colab": {
          "base_uri": "https://localhost:8080/"
        },
        "id": "1XElkYR6yKJt",
        "outputId": "879bcb01-db9d-4b62-c150-f75357e7acd7"
      },
      "execution_count": null,
      "outputs": [
        {
          "output_type": "stream",
          "name": "stdout",
          "text": [
            "renewable_use\n",
            "0    3026\n",
            "1      37\n",
            "Name: count, dtype: int64\n",
            "renewable_use\n",
            "0.0    191\n",
            "Name: count, dtype: int64\n",
            "3063 total rows in df\n",
            "191 rows used in regression\n"
          ]
        }
      ]
    },
    {
      "cell_type": "code",
      "source": [
        "# Relax the filtering so it only require renewable_use to be nonmissing\n",
        "# Keep all renewable households\n",
        "# Rebuild the model dataset, keeping renewable_use nonmissing\n",
        "needed = [\"renewable_use\"] + digital_rhs + controls\n",
        "if \"province_code\" in d.columns and \"province_code\" not in needed:\n",
        "  needed.append(\"province_code\")\n",
        "\n",
        "dm = d[needed].copy()\n",
        "dm = dm.dropna(subset=[\"renewable_use\"])\n",
        "\n",
        "print(\"After relaxed filtering:\")\n",
        "print(dm[\"renewable_use\"].value_counts(dropna=False))"
      ],
      "metadata": {
        "colab": {
          "base_uri": "https://localhost:8080/"
        },
        "id": "3c7SNTHzzYCs",
        "outputId": "86a4582c-9e54-437d-d5d3-9e783d113dc4"
      },
      "execution_count": null,
      "outputs": [
        {
          "output_type": "stream",
          "name": "stdout",
          "text": [
            "After relaxed filtering:\n",
            "renewable_use\n",
            "0.0    3026\n",
            "1.0      28\n",
            "Name: count, dtype: int64\n"
          ]
        }
      ]
    },
    {
      "cell_type": "code",
      "source": [
        "# Recreate digital_participation\n",
        "# Build from available digital flags\n",
        "cand = [c for c in [\"digital_payment\",\"ecommerce_participation\"] if c in dm.columns]\n",
        "if \"digital_participation\" not in dm.columns and cand:\n",
        "  dm[\"digital_participation\"] = dm[cand].max(axis=1, skipna=True)\n",
        "\n",
        "# If neither digital var exists, stop and show whats missing\n",
        "if not [c for c in [\"digital_participation\",\"digital_payment\",\"ecommerce_participation\"] if c in dm.columns]:\n",
        "  raise ValueError(\"No digital variables present. Ensure digital_payment / ecommerce_participation were created earlier.\")\n",
        "\n",
        "# Make sure key variables are numeric\n",
        "to_num = [c for c in [\"renewable_use\",\"digital_participation\",\"digital_payment\",\n",
        "                      \"ecommerce_participation\",\"log_income\",\"urban_dummy\",\n",
        "                      \"education_level\"] if c in dm.columns]\n",
        "for c in to_num:\n",
        "  dm[c] = pd.to_numeric(dm[c], errors=\"coerce\")\n",
        "\n",
        "# Build a simple RHS that adapts to whats present\n",
        "digital_rhs = [c for c in [\"digital_participation\",\"digital_payment\",\"ecommerce_participation\"] if c in dm.columns]\n",
        "controls = [c for c in [\"log_income\",\"urban_dummy\",\"education_level\"] if c in dm.columns]\n",
        "rhs = \" + \".join(digital_rhs + controls)\n",
        "\n",
        "# Keep rows with DV and at least the RHS being used\n",
        "d_run = dm.dropna(subset=[\"renewable_use\"] + digital_rhs + controls)\n",
        "print(\"N used:\", len(d_run))\n",
        "print(\"Renewable use distribution:\\n\", d_run[\"renewable_use\"].value_counts(dropna=False))"
      ],
      "metadata": {
        "colab": {
          "base_uri": "https://localhost:8080/"
        },
        "id": "8VQ39QVx1hRj",
        "outputId": "1a137070-8aa5-4c0c-e54c-f8744cfb0608"
      },
      "execution_count": null,
      "outputs": [
        {
          "output_type": "stream",
          "name": "stdout",
          "text": [
            "N used: 191\n",
            "Renewable use distribution:\n",
            " renewable_use\n",
            "0.0    191\n",
            "Name: count, dtype: int64\n"
          ]
        }
      ]
    },
    {
      "cell_type": "code",
      "source": [
        "# Run a simpler model: no province FE yet\n",
        "lpm_simple = smf.ols(f\"renewable_use ~ {rhs}\", data=d_run).fit(cov_type=\"HC1\")\n",
        "print(lpm_simple.summary())"
      ],
      "metadata": {
        "colab": {
          "base_uri": "https://localhost:8080/"
        },
        "id": "R12j5A1O0RhE",
        "outputId": "aeb72709-66d6-4034-836d-d9e391b3cb2c"
      },
      "execution_count": null,
      "outputs": [
        {
          "output_type": "stream",
          "name": "stdout",
          "text": [
            "                            OLS Regression Results                            \n",
            "==============================================================================\n",
            "Dep. Variable:          renewable_use   R-squared:                         nan\n",
            "Model:                            OLS   Adj. R-squared:                    nan\n",
            "Method:                 Least Squares   F-statistic:                       nan\n",
            "Date:                Mon, 13 Oct 2025   Prob (F-statistic):                nan\n",
            "Time:                        09:23:46   Log-Likelihood:                    inf\n",
            "No. Observations:                 191   AIC:                              -inf\n",
            "Df Residuals:                     184   BIC:                              -inf\n",
            "Df Model:                           6                                         \n",
            "Covariance Type:                  HC1                                         \n",
            "===========================================================================================\n",
            "                              coef    std err          z      P>|z|      [0.025      0.975]\n",
            "-------------------------------------------------------------------------------------------\n",
            "Intercept                        0          0        nan        nan           0           0\n",
            "digital_participation            0          0        nan        nan           0           0\n",
            "digital_payment                  0          0        nan        nan           0           0\n",
            "ecommerce_participation          0          0        nan        nan           0           0\n",
            "log_income                       0          0        nan        nan           0           0\n",
            "urban_dummy                      0          0        nan        nan           0           0\n",
            "education_level                  0          0        nan        nan           0           0\n",
            "==============================================================================\n",
            "Omnibus:                          nan   Durbin-Watson:                     nan\n",
            "Prob(Omnibus):                    nan   Jarque-Bera (JB):                  nan\n",
            "Skew:                             nan   Prob(JB):                          nan\n",
            "Kurtosis:                         nan   Cond. No.                         111.\n",
            "==============================================================================\n",
            "\n",
            "Notes:\n",
            "[1] Standard Errors are heteroscedasticity robust (HC1)\n"
          ]
        },
        {
          "output_type": "stream",
          "name": "stderr",
          "text": [
            "/usr/local/lib/python3.12/dist-packages/statsmodels/regression/linear_model.py:1782: RuntimeWarning: invalid value encountered in scalar divide\n",
            "  return 1 - self.ssr/self.centered_tss\n",
            "/usr/local/lib/python3.12/dist-packages/statsmodels/base/model.py:1894: ValueWarning: covariance of constraints does not have full rank. The number of constraints is 6, but rank is 0\n",
            "  warnings.warn('covariance of constraints does not have full '\n",
            "/usr/local/lib/python3.12/dist-packages/statsmodels/base/model.py:1923: RuntimeWarning: invalid value encountered in divide\n",
            "  F /= J\n",
            "/usr/local/lib/python3.12/dist-packages/statsmodels/regression/linear_model.py:955: RuntimeWarning: divide by zero encountered in log\n",
            "  llf = -nobs2*np.log(2*np.pi) - nobs2*np.log(ssr / nobs) - nobs2\n",
            "/usr/local/lib/python3.12/dist-packages/statsmodels/stats/stattools.py:50: RuntimeWarning: invalid value encountered in scalar divide\n",
            "  dw = np.sum(diff_resids**2, axis=axis) / np.sum(resids**2, axis=axis)\n"
          ]
        }
      ]
    },
    {
      "cell_type": "code",
      "source": [
        "# The regression result still shows all 0s; may be because an older filtered subset (dm) from before relaxing the filtering is being used\n",
        "# Recreate a flesh dataset for modeling\n",
        "# Rebuild a clean version from the full df (2026 + 28 households)\n",
        "dm = df.copy()\n",
        "cols = [\"renewable_use\", \"digital_participation\",\"log_income\",\"urban_dummy\",\"education_level\"]\n",
        "dm = dm[cols].dropna(subset=[\"renewable_use\"])\n",
        "print(\"Fresh sample size:\", len(dm))"
      ],
      "metadata": {
        "colab": {
          "base_uri": "https://localhost:8080/"
        },
        "id": "AxciVR3D_vLK",
        "outputId": "f93d0db3-4a1b-4e6e-95a2-30fe13c569f7"
      },
      "execution_count": null,
      "outputs": [
        {
          "output_type": "stream",
          "name": "stdout",
          "text": [
            "Fresh sample size: 3063\n"
          ]
        }
      ]
    },
    {
      "cell_type": "code",
      "source": [
        "# Rerun the same regression model\n",
        "# Run the baseline regression\n",
        "lpm_simple = smf.ols(\n",
        "    \"renewable_use ~ digital_participation + log_income + urban_dummy + education_level\",\n",
        "    data=dm\n",
        ").fit(cov_type=\"HC1\")\n",
        "\n",
        "print(lpm_simple.summary())"
      ],
      "metadata": {
        "colab": {
          "base_uri": "https://localhost:8080/"
        },
        "id": "e3rH2AvOEAvu",
        "outputId": "c4a698da-d11d-41a0-d4dc-1e9a97c8385f"
      },
      "execution_count": null,
      "outputs": [
        {
          "output_type": "stream",
          "name": "stdout",
          "text": [
            "                            OLS Regression Results                            \n",
            "==============================================================================\n",
            "Dep. Variable:          renewable_use   R-squared:                         nan\n",
            "Model:                            OLS   Adj. R-squared:                    nan\n",
            "Method:                 Least Squares   F-statistic:                       nan\n",
            "Date:                Mon, 13 Oct 2025   Prob (F-statistic):                nan\n",
            "Time:                        10:22:12   Log-Likelihood:                    inf\n",
            "No. Observations:                 191   AIC:                              -inf\n",
            "Df Residuals:                     186   BIC:                              -inf\n",
            "Df Model:                           4                                         \n",
            "Covariance Type:                  HC1                                         \n",
            "=========================================================================================\n",
            "                            coef    std err          z      P>|z|      [0.025      0.975]\n",
            "-----------------------------------------------------------------------------------------\n",
            "Intercept                      0          0        nan        nan           0           0\n",
            "digital_participation          0          0        nan        nan           0           0\n",
            "log_income                     0          0        nan        nan           0           0\n",
            "urban_dummy                    0          0        nan        nan           0           0\n",
            "education_level                0          0        nan        nan           0           0\n",
            "==============================================================================\n",
            "Omnibus:                          nan   Durbin-Watson:                     nan\n",
            "Prob(Omnibus):                    nan   Jarque-Bera (JB):                  nan\n",
            "Skew:                             nan   Prob(JB):                          nan\n",
            "Kurtosis:                         nan   Cond. No.                         50.7\n",
            "==============================================================================\n",
            "\n",
            "Notes:\n",
            "[1] Standard Errors are heteroscedasticity robust (HC1)\n"
          ]
        },
        {
          "output_type": "stream",
          "name": "stderr",
          "text": [
            "/usr/local/lib/python3.12/dist-packages/statsmodels/regression/linear_model.py:1782: RuntimeWarning: invalid value encountered in scalar divide\n",
            "  return 1 - self.ssr/self.centered_tss\n",
            "/usr/local/lib/python3.12/dist-packages/statsmodels/base/model.py:1894: ValueWarning: covariance of constraints does not have full rank. The number of constraints is 4, but rank is 0\n",
            "  warnings.warn('covariance of constraints does not have full '\n",
            "/usr/local/lib/python3.12/dist-packages/statsmodels/base/model.py:1923: RuntimeWarning: invalid value encountered in divide\n",
            "  F /= J\n",
            "/usr/local/lib/python3.12/dist-packages/statsmodels/regression/linear_model.py:955: RuntimeWarning: divide by zero encountered in log\n",
            "  llf = -nobs2*np.log(2*np.pi) - nobs2*np.log(ssr / nobs) - nobs2\n",
            "/usr/local/lib/python3.12/dist-packages/statsmodels/stats/stattools.py:50: RuntimeWarning: invalid value encountered in scalar divide\n",
            "  dw = np.sum(diff_resids**2, axis=axis) / np.sum(resids**2, axis=axis)\n"
          ]
        }
      ]
    },
    {
      "cell_type": "code",
      "source": [
        "# Further issues inspection and fix\n",
        "# See which variables are causing the drop\n",
        "# Runt a diagnostic\n",
        "missing_summary = dm.isna().sum()\n",
        "print(missing_summary)"
      ],
      "metadata": {
        "colab": {
          "base_uri": "https://localhost:8080/"
        },
        "id": "xgZ8XrnVGOMO",
        "outputId": "1b61b016-6cab-4214-c09c-7cc4ca73e307"
      },
      "execution_count": null,
      "outputs": [
        {
          "output_type": "stream",
          "name": "stdout",
          "text": [
            "renewable_use               0\n",
            "digital_participation    2872\n",
            "log_income               1521\n",
            "urban_dummy                 0\n",
            "education_level            16\n",
            "dtype: int64\n"
          ]
        }
      ]
    },
    {
      "cell_type": "code",
      "source": [
        "# Check whether nearly all the rows have NaN in at least one of those columns\n",
        "dm_clean = dm.dropna(subset=[\"renewable_use\",\"digital_participation\",\"log_income\",\"urban_dummy\",\"education_level\"])\n",
        "print(\"Rows remaining after full non-missing filter:\", len(dm_clean))"
      ],
      "metadata": {
        "colab": {
          "base_uri": "https://localhost:8080/"
        },
        "id": "Ar_yfFGYGYTT",
        "outputId": "4f06e2ea-e369-4998-b258-9d8db74ce35d"
      },
      "execution_count": null,
      "outputs": [
        {
          "output_type": "stream",
          "name": "stdout",
          "text": [
            "Rows remaining after full non-missing filter: 191\n"
          ]
        }
      ]
    },
    {
      "cell_type": "code",
      "source": [
        "# Inspect why the NaNs exist\n",
        "for col in [\"digital_participation\",\"log_income\",\"urban_dummy\",\"education_level\"]:\n",
        "  print(col, dm[col].unique()[:10])"
      ],
      "metadata": {
        "colab": {
          "base_uri": "https://localhost:8080/"
        },
        "id": "ssjjF6-ZG3dZ",
        "outputId": "ceaf5098-6772-4d25-ccbf-9f7847f03722"
      },
      "execution_count": null,
      "outputs": [
        {
          "output_type": "stream",
          "name": "stdout",
          "text": [
            "digital_participation [nan  0.  1.]\n",
            "log_income [0.                nan 2.07944154 1.94591015]\n",
            "urban_dummy [0 1]\n",
            "education_level [ 7.  9. 13.  2.  4. 11. 12.  8.  1. 14.]\n"
          ]
        }
      ]
    },
    {
      "cell_type": "code",
      "source": [
        "# Quick patch: recode missing data for now\n",
        "dm_test = dm.fillna({\n",
        "    \"digital_participation\": 0,\n",
        "    \"digital_payment\": 0,\n",
        "    \"ecommerce_participation\": 0,\n",
        "    \"log_income\": dm[\"log_income\"].median(),\n",
        "    \"urban_dummy\": dm[\"urban_dummy\"].mode()[0],\n",
        "    \"education_level\": dm[\"education_level\"].median()\n",
        "})"
      ],
      "metadata": {
        "id": "TtBTM2zHHeid"
      },
      "execution_count": null,
      "outputs": []
    },
    {
      "cell_type": "code",
      "source": [
        "# Rerun the model\n",
        "lpm_simple = smf.ols(\n",
        "    \"renewable_use ~ digital_participation + log_income + urban_dummy + education_level\",\n",
        "    data=dm_test\n",
        ").fit(cov_type=\"HC1\")\n",
        "\n",
        "print(lpm_simple.summary())"
      ],
      "metadata": {
        "colab": {
          "base_uri": "https://localhost:8080/"
        },
        "id": "s70jAvw0H5NX",
        "outputId": "614a3ff7-1627-4792-d06f-ba5d6d594d48"
      },
      "execution_count": null,
      "outputs": [
        {
          "output_type": "stream",
          "name": "stdout",
          "text": [
            "                            OLS Regression Results                            \n",
            "==============================================================================\n",
            "Dep. Variable:          renewable_use   R-squared:                       0.016\n",
            "Model:                            OLS   Adj. R-squared:                  0.015\n",
            "Method:                 Least Squares   F-statistic:                     8.663\n",
            "Date:                Mon, 13 Oct 2025   Prob (F-statistic):           5.97e-07\n",
            "Time:                        10:35:38   Log-Likelihood:                 2460.7\n",
            "No. Observations:                3063   AIC:                            -4911.\n",
            "Df Residuals:                    3058   BIC:                            -4881.\n",
            "Df Model:                           4                                         \n",
            "Covariance Type:                  HC1                                         \n",
            "=========================================================================================\n",
            "                            coef    std err          z      P>|z|      [0.025      0.975]\n",
            "-----------------------------------------------------------------------------------------\n",
            "Intercept                 0.0353      0.007      5.037      0.000       0.022       0.049\n",
            "digital_participation    -0.0061      0.002     -3.610      0.000      -0.009      -0.003\n",
            "log_income               -0.0023      0.001     -2.277      0.023      -0.004      -0.000\n",
            "urban_dummy              -0.0281      0.006     -5.047      0.000      -0.039      -0.017\n",
            "education_level          -0.0005      0.001     -0.943      0.346      -0.002       0.001\n",
            "==============================================================================\n",
            "Omnibus:                     4373.494   Durbin-Watson:                   0.997\n",
            "Prob(Omnibus):                  0.000   Jarque-Bera (JB):           761719.594\n",
            "Skew:                           8.714   Prob(JB):                         0.00\n",
            "Kurtosis:                      78.264   Cond. No.                         60.2\n",
            "==============================================================================\n",
            "\n",
            "Notes:\n",
            "[1] Standard Errors are heteroscedasticity robust (HC1)\n"
          ]
        }
      ]
    }
  ]
}