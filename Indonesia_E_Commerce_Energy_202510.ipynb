{
  "nbformat": 4,
  "nbformat_minor": 0,
  "metadata": {
    "colab": {
      "provenance": [],
      "authorship_tag": "ABX9TyOuAx0MCnTS7q0DU3CSg6Lg",
      "include_colab_link": true
    },
    "kernelspec": {
      "name": "python3",
      "display_name": "Python 3"
    },
    "language_info": {
      "name": "python"
    }
  },
  "cells": [
    {
      "cell_type": "markdown",
      "metadata": {
        "id": "view-in-github",
        "colab_type": "text"
      },
      "source": [
        "<a href=\"https://colab.research.google.com/github/the-cafehopper/Research/blob/main/Indonesia_E_Commerce_Energy_202510.ipynb\" target=\"_parent\"><img src=\"https://colab.research.google.com/assets/colab-badge.svg\" alt=\"Open In Colab\"/></a>"
      ]
    },
    {
      "cell_type": "code",
      "execution_count": 1,
      "metadata": {
        "colab": {
          "base_uri": "https://localhost:8080/"
        },
        "id": "WEFmmkTfTPru",
        "outputId": "21761b22-c5b9-4849-c8c7-bad4b899a9e3"
      },
      "outputs": [
        {
          "output_type": "stream",
          "name": "stdout",
          "text": [
            "Requirement already satisfied: pandas in /usr/local/lib/python3.12/dist-packages (2.2.2)\n",
            "Requirement already satisfied: numpy in /usr/local/lib/python3.12/dist-packages (2.0.2)\n",
            "Requirement already satisfied: statsmodels in /usr/local/lib/python3.12/dist-packages (0.14.5)\n",
            "Collecting pyjanitor\n",
            "  Downloading pyjanitor-0.31.0-py3-none-any.whl.metadata (6.1 kB)\n",
            "Requirement already satisfied: openpyxl in /usr/local/lib/python3.12/dist-packages (3.1.5)\n",
            "Requirement already satisfied: python-dateutil>=2.8.2 in /usr/local/lib/python3.12/dist-packages (from pandas) (2.9.0.post0)\n",
            "Requirement already satisfied: pytz>=2020.1 in /usr/local/lib/python3.12/dist-packages (from pandas) (2025.2)\n",
            "Requirement already satisfied: tzdata>=2022.7 in /usr/local/lib/python3.12/dist-packages (from pandas) (2025.2)\n",
            "Requirement already satisfied: scipy!=1.9.2,>=1.8 in /usr/local/lib/python3.12/dist-packages (from statsmodels) (1.16.2)\n",
            "Requirement already satisfied: patsy>=0.5.6 in /usr/local/lib/python3.12/dist-packages (from statsmodels) (1.0.1)\n",
            "Requirement already satisfied: packaging>=21.3 in /usr/local/lib/python3.12/dist-packages (from statsmodels) (25.0)\n",
            "Requirement already satisfied: natsort in /usr/local/lib/python3.12/dist-packages (from pyjanitor) (8.4.0)\n",
            "Collecting pandas_flavor (from pyjanitor)\n",
            "  Downloading pandas_flavor-0.7.0-py3-none-any.whl.metadata (6.7 kB)\n",
            "Requirement already satisfied: multipledispatch in /usr/local/lib/python3.12/dist-packages (from pyjanitor) (1.0.0)\n",
            "Requirement already satisfied: et-xmlfile in /usr/local/lib/python3.12/dist-packages (from openpyxl) (2.0.0)\n",
            "Requirement already satisfied: six>=1.5 in /usr/local/lib/python3.12/dist-packages (from python-dateutil>=2.8.2->pandas) (1.17.0)\n",
            "Requirement already satisfied: xarray in /usr/local/lib/python3.12/dist-packages (from pandas_flavor->pyjanitor) (2025.10.1)\n",
            "Downloading pyjanitor-0.31.0-py3-none-any.whl (215 kB)\n",
            "\u001b[2K   \u001b[90m━━━━━━━━━━━━━━━━━━━━━━━━━━━━━━━━━━━━━━━━\u001b[0m \u001b[32m215.4/215.4 kB\u001b[0m \u001b[31m5.0 MB/s\u001b[0m eta \u001b[36m0:00:00\u001b[0m\n",
            "\u001b[?25hDownloading pandas_flavor-0.7.0-py3-none-any.whl (8.4 kB)\n",
            "Installing collected packages: pandas_flavor, pyjanitor\n",
            "Successfully installed pandas_flavor-0.7.0 pyjanitor-0.31.0\n"
          ]
        }
      ],
      "source": [
        "pip install pandas numpy statsmodels pyjanitor openpyxl"
      ]
    },
    {
      "cell_type": "code",
      "source": [
        "import pandas as pd\n",
        "import numpy as np\n",
        "from pathlib import Path"
      ],
      "metadata": {
        "id": "PZkeQQhaTsmU"
      },
      "execution_count": 2,
      "outputs": []
    },
    {
      "cell_type": "code",
      "source": [
        "# Paths\n",
        "household_fp = \"dehs2020_household_v2.csv\"\n",
        "individual_fp = \"dehs2020_individual_v2.csv\"\n",
        "out_fp = \"dehs2020_masterdataset.csv\""
      ],
      "metadata": {
        "id": "xaMU747mcBAP"
      },
      "execution_count": 3,
      "outputs": []
    },
    {
      "cell_type": "code",
      "source": [
        "# Load\n",
        "hh = pd.read_csv(household_fp, low_memory=False)\n",
        "ind = pd.read_csv(individual_fp, low_memory=False)"
      ],
      "metadata": {
        "id": "qjmwjDHwcEL-"
      },
      "execution_count": 4,
      "outputs": []
    },
    {
      "cell_type": "code",
      "source": [
        "# Detect merge key (defaults to hhid if present)\n",
        "hh_cols_lower = {c.lower(): c for c in hh.columns}\n",
        "ind_cols_lower = {c.lower(): c for c in ind.columns}\n",
        "\n",
        "if \"hhid\" in hh_cols_lower and \"hhid\" in ind_cols_lower:\n",
        "  hh_key, ind_key = hh_cols_lower[\"hhid\"], ind_cols_lower[\"hhid\"]\n",
        "else:\n",
        "  common = set(hh_cols_lower).intersection(ind_cols_lower)\n",
        "  # heuristic fallback\n",
        "  candidates = [c for c in common if \"hh\" in c or \"house\" in c or c.endswith(\"id\")]\n",
        "  if not candidates:\n",
        "    raise ValueError(\"Could not auto-detect a common household key. Set hh_key and ind_key manually.\")\n",
        "  pick = candidates[0]\n",
        "  hh_key, ind_key = hh_cols_lower[pick], ind_cols_lower[pick]"
      ],
      "metadata": {
        "id": "yAjUQW5k_5wg"
      },
      "execution_count": 5,
      "outputs": []
    },
    {
      "cell_type": "code",
      "source": [
        "# Select + rename household vars\n",
        "var_map_hh = {\n",
        "    \"m1_iii_1\" : \"province_code\", # province identifier\n",
        "    \"m1_iii_5\" : \"urban_rural\", # 1=Urban, 2=Rural\n",
        "    \"m9_ii_21_ax\" : \"monthly_income\", # income proxy\n",
        "    \"m9_iii_67e\" : \"digital_payment_raw\", # 1 yes, 3 no\n",
        "    \"m9_iii_42\" : \"ecommerce_raw\", # Likert 1..5 (1-2 positive)\n",
        "    \"m1_vi_35\" : \"lighting_source\" # 1 PLN, 2 Non-PLN\n",
        "}\n",
        "present_hh = {k: v for k, v in var_map_hh.items() if k in hh.columns}\n",
        "hh_sub = hh[[hh_key] + list(present_hh.keys())].rename(columns=present_hh)\n",
        "hh_sub = hh_sub.rename(columns={hh_key: \"hhid_key\"})"
      ],
      "metadata": {
        "id": "uxoYDPb0eIVY"
      },
      "execution_count": 6,
      "outputs": []
    },
    {
      "cell_type": "code",
      "source": [
        "# Recode helpers\n",
        "def yesno(series, yes=(1,), no=(3,)):\n",
        "  return series.apply(lambda x: 1 if x in yes else (0 if x in no else np.nan))\n",
        "\n",
        "# Digital payment (1=yes, 3=no)\n",
        "if \"digital_payment_raw\" in hh_sub:\n",
        "  hh_sub[\"digital_payment\"] = yesno(hh_sub[\"digital_payment_raw\"], yes=(1,), no=(3,))\n",
        "\n",
        "# E-commerce (Likert 1..5 -> engaged=1 if 1 or 2; else 0\n",
        "if \"ecommerce_raw\" in hh_sub:\n",
        "  hh_sub[\"ecommerce_participation\"] = hh_sub[\"ecommerce_raw\"].apply(\n",
        "      lambda x: 1 if x in [1,2] else (0 if x in [3,4,5] else np.nan)\n",
        "  )\n",
        "\n",
        "# Renewable proxy (Non-PLN -> 1; PLN -> 0)\n",
        "if \"lighting_source\" in hh_sub:\n",
        "  hh_sub[\"renewable_use\"] = hh_sub[\"lighting_source\"].apply(\n",
        "      lambda x: 1 if x == 2 else (0 if x == 1 else np.nan)\n",
        "  )\n",
        "\n",
        "# Urban dummy\n",
        "if \"urban_rural\" in hh_sub:\n",
        "  hh_sub[\"urban_dummy\"] = hh_sub[\"urban_rural\"].apply(\n",
        "      lambda x: 1 if x == 1 else (0 if x == 2 else np.nan)\n",
        "  )\n",
        "\n",
        "# Log income (avoid log(0))\n",
        "if \"monthly_income\" in hh_sub:\n",
        "  hh_sub[\"log_income\"] = np.log(hh_sub[\"monthly_income\"].replace({0: np.nan}))\n",
        "\n",
        "# Composite digital participation\n",
        "digital_cols = [c for c in [\"digital_payment\", \"ecommerce_participation\"] if c in hh_sub.columns]\n",
        "if digital_cols:\n",
        "  hh_sub[\"digital_participation\"] = hh_sub[digital_cols].max(axis=1, skipna=True)"
      ],
      "metadata": {
        "id": "g9ICFxeUGIC7"
      },
      "execution_count": 7,
      "outputs": []
    },
    {
      "cell_type": "code",
      "source": [
        "# Education from individual file\n",
        "if \"m1_v_8\" not in ind.columns:\n",
        "    raise ValueError(\"Education variable 'm1_v_8' not found in individual data.\")\n",
        "\n",
        "# Rename merge key\n",
        "ind_tmp = ind.rename(columns={ind_key: \"hhid_key\"})\n",
        "\n",
        "# Head’s education (relation == 1)\n",
        "rel_candidates = [c for c in ind_tmp.columns if c.lower() in {\"m1_iv_2\", \"m1_ii_1\", \"relation\", \"rel_head\"}]\n",
        "\n",
        "if rel_candidates and rel_candidates[0] in ind_tmp.columns:\n",
        "    rel_col = rel_candidates[0]\n",
        "    # Filter for household head only (relation == 1)\n",
        "    edu_hh = (\n",
        "        ind_tmp.loc[ind_tmp[rel_col] == 1, [\"hhid_key\", \"m1_v_8\"]]\n",
        "        .dropna()\n",
        "        .groupby(\"hhid_key\", as_index=False)[\"m1_v_8\"]\n",
        "        .first()\n",
        "        .rename(columns={\"m1_v_8\": \"education_level\"})\n",
        "    )\n",
        "    print(f\"Education aggregated using household head column: {rel_col}\")\n",
        "else:\n",
        "    # Fallback: take MAX education within HH\n",
        "    edu_hh = (\n",
        "        ind_tmp.groupby(\"hhid_key\", as_index=False)[\"m1_v_8\"]\n",
        "        .max()\n",
        "        .rename(columns={\"m1_v_8\": \"education_level\"})\n",
        "    )\n",
        "    print(\"Education aggregated using MAX education within household (head not detected).\")\n"
      ],
      "metadata": {
        "colab": {
          "base_uri": "https://localhost:8080/"
        },
        "id": "iKtJtJcxEJEq",
        "outputId": "4cf2e0c0-b24d-4adb-f957-75eed55423f6"
      },
      "execution_count": 8,
      "outputs": [
        {
          "output_type": "stream",
          "name": "stdout",
          "text": [
            "Education aggregated using MAX education within household (head not detected).\n"
          ]
        }
      ]
    },
    {
      "cell_type": "code",
      "source": [
        "# Merge education into household data\n",
        "df = hh_sub.merge(edu_hh, on=\"hhid_key\", how=\"left\")\n",
        "print(df[[\"hhid_key\", \"education_level\"]].head())"
      ],
      "metadata": {
        "colab": {
          "base_uri": "https://localhost:8080/"
        },
        "id": "xXoKjfjMIWeg",
        "outputId": "b80deaf3-c5d4-4b09-e769-3f000be7421f"
      },
      "execution_count": 9,
      "outputs": [
        {
          "output_type": "stream",
          "name": "stdout",
          "text": [
            "   hhid_key  education_level\n",
            "0      1103              7.0\n",
            "1      1203              7.0\n",
            "2      1105              7.0\n",
            "3      1102              9.0\n",
            "4      1205              7.0\n"
          ]
        }
      ]
    },
    {
      "cell_type": "code",
      "source": [
        "# Save the file for analysis\n",
        "df.to_csv(out_fp, index=False)\n",
        "print(\"Saved:\", out_fp)\n",
        "print(\"Columns:\", df.columns.tolist())\n",
        "print(df.head(3))"
      ],
      "metadata": {
        "colab": {
          "base_uri": "https://localhost:8080/"
        },
        "id": "nH4Sb1KpJJgR",
        "outputId": "c544e689-fd21-4ba9-e77e-8b23c3ee5916"
      },
      "execution_count": 10,
      "outputs": [
        {
          "output_type": "stream",
          "name": "stdout",
          "text": [
            "Saved: dehs2020_masterdataset.csv\n",
            "Columns: ['hhid_key', 'province_code', 'urban_rural', 'monthly_income', 'digital_payment_raw', 'ecommerce_raw', 'lighting_source', 'digital_payment', 'ecommerce_participation', 'renewable_use', 'urban_dummy', 'log_income', 'digital_participation', 'education_level']\n",
            "   hhid_key  province_code  urban_rural  monthly_income  digital_payment_raw  \\\n",
            "0      1103             11            2             1.0                  NaN   \n",
            "1      1203             11            2             NaN                  NaN   \n",
            "2      1105             11            2             1.0                  NaN   \n",
            "\n",
            "   ecommerce_raw  lighting_source  digital_payment  ecommerce_participation  \\\n",
            "0            3.0                1              NaN                      0.0   \n",
            "1            NaN                1              NaN                      NaN   \n",
            "2            3.0                1              NaN                      0.0   \n",
            "\n",
            "   renewable_use  urban_dummy  log_income  digital_participation  \\\n",
            "0            0.0            0         0.0                    0.0   \n",
            "1            0.0            0         NaN                    NaN   \n",
            "2            0.0            0         0.0                    0.0   \n",
            "\n",
            "   education_level  \n",
            "0              7.0  \n",
            "1              7.0  \n",
            "2              7.0  \n"
          ]
        }
      ]
    },
    {
      "cell_type": "code",
      "source": [
        "# Quick diagnosis and descriptives\n",
        "df = pd.read_csv(\"dehs2020_masterdataset.csv\")\n",
        "\n",
        "keep = [c for c in [\"renewable_use\",\"digital_payment\",\"ecommerce_participation\",\n",
        "                    \"digital_participation\",\"log_income\",\"urban_dummy\",\n",
        "                    \"education_level\",\"province_code\"] if c in df.columns]\n",
        "print(\"Available:\", keep)\n",
        "\n",
        "desc = df[keep].describe().T\n",
        "desc[\"mean_pct\"] = (desc[\"mean\"]*100).round(2)\n",
        "print(desc[[\"count\",\"mean\",\"mean_pct\",\"std\",\"min\",\"max\"]])"
      ],
      "metadata": {
        "colab": {
          "base_uri": "https://localhost:8080/"
        },
        "id": "kHbpBUYCNtYB",
        "outputId": "2b851f2d-673d-40e4-d91d-11d8105fe116"
      },
      "execution_count": 11,
      "outputs": [
        {
          "output_type": "stream",
          "name": "stdout",
          "text": [
            "Available: ['renewable_use', 'digital_payment', 'ecommerce_participation', 'digital_participation', 'log_income', 'urban_dummy', 'education_level', 'province_code']\n",
            "                          count       mean  mean_pct        std   min  \\\n",
            "renewable_use            3054.0   0.009168      0.92   0.095327   0.0   \n",
            "digital_payment           191.0   0.115183     11.52   0.320082   0.0   \n",
            "ecommerce_participation  1542.0   0.123865     12.39   0.329534   0.0   \n",
            "digital_participation    1542.0   0.123865     12.39   0.329534   0.0   \n",
            "log_income               1542.0   0.024100      2.41   0.221877   0.0   \n",
            "urban_dummy              3063.0   0.666993     66.70   0.471366   0.0   \n",
            "education_level          3047.0   8.442402    844.24   4.183718   1.0   \n",
            "province_code            3063.0  58.303950   5830.40  24.337492  11.0   \n",
            "\n",
            "                               max  \n",
            "renewable_use             1.000000  \n",
            "digital_payment           1.000000  \n",
            "ecommerce_participation   1.000000  \n",
            "digital_participation     1.000000  \n",
            "log_income                2.079442  \n",
            "urban_dummy               1.000000  \n",
            "education_level          99.000000  \n",
            "province_code            94.000000  \n"
          ]
        }
      ]
    },
    {
      "cell_type": "code",
      "source": [
        "# Baseline models (LPM + penalized logit)\n",
        "import statsmodels.formula.api as smf\n",
        "import statsmodels.api as sm\n",
        "\n",
        "d = pd.read_csv(\"dehs2020_masterdataset.csv\")\n",
        "\n",
        "# RHS builder\n",
        "digital_rhs = [c for c in [\"digital_payment\",\"ecommerce_participation\"] if c in d.columns]\n",
        "if not digital_rhs and \"digital_participation\" in d.columns:\n",
        "  digital_rhs = [\"digital_participation\"]\n",
        "\n",
        "controls = [c for c in [\"log_income\",\"urban_dummy\",\"education_level\",\"province_code\"] if c in d.columns]\n",
        "rhs = \" + \".join(digital_rhs + [c for c in controls if c!=\"province_code\"] + ([\"C(province_code)\"] if \"province_code\" in controls else []))\n",
        "\n",
        "dm = d.dropna(subset=[\"renewable_use\"] + digital_rhs + [c for c in controls if c!=\"province_code\"] + ([\"province_code\"] if \"province_code\" in controls else []))\n",
        "\n",
        "print(\"N (analysis sample):\", len(dm), \"| renewable_use mean:\", dm[\"renewable_use\"].mean().round(4))\n",
        "\n",
        "# LPM (robust SE)\n",
        "lpm = smf.ols(f\"renewable_use ~ {rhs}\", data=dm).fit(cov_type=\"HC1\")\n",
        "print(lpm.summary())\n",
        "\n",
        "# Penalized logit (L2) to handle rare outcome / separation\n",
        "# Build design matrices from formula (evaluate once)\n",
        "logit_model = smf.logit(f\"renewable_use ~ {rhs}\", data=dm)\n",
        "y, X = logit_model.endog, sm.add_constant(logit_model.exog, has_constant='add')\n",
        "\n",
        "# L2 penalty via fit_regularized (alpha is penalty strength; tune 0.1-5.0)\n",
        "logit_pen = sm.Logit(y, X).fit_regularized(alpha=1.0, L1_wt=0.0, maxiter=200)\n",
        "print(\"\\nPenalized logit coefficients:\\n\", pd.Series(logit_pen.params, index=[\"const\"]+logit_model.exog_names))\n",
        "\n",
        "# Clustered SE for LPM by province\n",
        "if \"province_code\" in dm.columns:\n",
        "  lpm_cl = smf.ols(f\"renewable_use ~ {rhs}\", data=dm).fit(\n",
        "      cov_type=\"cluster\", cov_kwds={\"groups\": dm[\"province_code\"]}\n",
        "  )\n",
        "  print(\"\\nLPM with province-clustered SE:\\n\", lpm_cl.summary())"
      ],
      "metadata": {
        "colab": {
          "base_uri": "https://localhost:8080/"
        },
        "id": "QAdF49t0SCqo",
        "outputId": "eb07b769-5dae-4483-c914-a8f57d2a1ffd"
      },
      "execution_count": 12,
      "outputs": [
        {
          "output_type": "stream",
          "name": "stdout",
          "text": [
            "N (analysis sample): 191 | renewable_use mean: 0.0\n",
            "                            OLS Regression Results                            \n",
            "==============================================================================\n",
            "Dep. Variable:          renewable_use   R-squared:                         nan\n",
            "Model:                            OLS   Adj. R-squared:                    nan\n",
            "Method:                 Least Squares   F-statistic:                       nan\n",
            "Date:                Sun, 19 Oct 2025   Prob (F-statistic):                nan\n",
            "Time:                        14:51:43   Log-Likelihood:                    inf\n",
            "No. Observations:                 191   AIC:                              -inf\n",
            "Df Residuals:                     161   BIC:                              -inf\n",
            "Df Model:                          29                                         \n",
            "Covariance Type:                  HC1                                         \n",
            "===========================================================================================\n",
            "                              coef    std err          z      P>|z|      [0.025      0.975]\n",
            "-------------------------------------------------------------------------------------------\n",
            "Intercept                        0          0        nan        nan           0           0\n",
            "C(province_code)[T.12]           0          0        nan        nan           0           0\n",
            "C(province_code)[T.13]           0          0        nan        nan           0           0\n",
            "C(province_code)[T.15]           0          0        nan        nan           0           0\n",
            "C(province_code)[T.16]           0          0        nan        nan           0           0\n",
            "C(province_code)[T.17]           0          0        nan        nan           0           0\n",
            "C(province_code)[T.18]           0          0        nan        nan           0           0\n",
            "C(province_code)[T.19]           0          0        nan        nan           0           0\n",
            "C(province_code)[T.31]           0          0        nan        nan           0           0\n",
            "C(province_code)[T.32]           0          0        nan        nan           0           0\n",
            "C(province_code)[T.33]           0          0        nan        nan           0           0\n",
            "C(province_code)[T.35]           0          0        nan        nan           0           0\n",
            "C(province_code)[T.36]           0          0        nan        nan           0           0\n",
            "C(province_code)[T.52]           0          0        nan        nan           0           0\n",
            "C(province_code)[T.53]           0          0        nan        nan           0           0\n",
            "C(province_code)[T.61]           0          0        nan        nan           0           0\n",
            "C(province_code)[T.62]           0          0        nan        nan           0           0\n",
            "C(province_code)[T.63]           0          0        nan        nan           0           0\n",
            "C(province_code)[T.64]           0          0        nan        nan           0           0\n",
            "C(province_code)[T.71]           0          0        nan        nan           0           0\n",
            "C(province_code)[T.72]           0          0        nan        nan           0           0\n",
            "C(province_code)[T.73]           0          0        nan        nan           0           0\n",
            "C(province_code)[T.74]           0          0        nan        nan           0           0\n",
            "C(province_code)[T.81]           0          0        nan        nan           0           0\n",
            "C(province_code)[T.91]           0          0        nan        nan           0           0\n",
            "C(province_code)[T.94]           0          0        nan        nan           0           0\n",
            "digital_payment                  0          0        nan        nan           0           0\n",
            "ecommerce_participation          0          0        nan        nan           0           0\n",
            "log_income                       0          0        nan        nan           0           0\n",
            "urban_dummy                      0          0        nan        nan           0           0\n",
            "education_level                  0          0        nan        nan           0           0\n",
            "==============================================================================\n",
            "Omnibus:                          nan   Durbin-Watson:                     nan\n",
            "Prob(Omnibus):                    nan   Jarque-Bera (JB):                  nan\n",
            "Skew:                             nan   Prob(JB):                          nan\n",
            "Kurtosis:                         nan   Cond. No.                     2.69e+16\n",
            "==============================================================================\n",
            "\n",
            "Notes:\n",
            "[1] Standard Errors are heteroscedasticity robust (HC1)\n",
            "[2] The smallest eigenvalue is 3.03e-29. This might indicate that there are\n",
            "strong multicollinearity problems or that the design matrix is singular.\n"
          ]
        },
        {
          "output_type": "stream",
          "name": "stderr",
          "text": [
            "/usr/local/lib/python3.12/dist-packages/statsmodels/regression/linear_model.py:1782: RuntimeWarning: invalid value encountered in scalar divide\n",
            "  return 1 - self.ssr/self.centered_tss\n",
            "/usr/local/lib/python3.12/dist-packages/statsmodels/base/model.py:1894: ValueWarning: covariance of constraints does not have full rank. The number of constraints is 30, but rank is 0\n",
            "  warnings.warn('covariance of constraints does not have full '\n",
            "/usr/local/lib/python3.12/dist-packages/statsmodels/base/model.py:1923: RuntimeWarning: invalid value encountered in divide\n",
            "  F /= J\n",
            "/usr/local/lib/python3.12/dist-packages/statsmodels/regression/linear_model.py:955: RuntimeWarning: divide by zero encountered in log\n",
            "  llf = -nobs2*np.log(2*np.pi) - nobs2*np.log(ssr / nobs) - nobs2\n",
            "/usr/local/lib/python3.12/dist-packages/statsmodels/stats/stattools.py:50: RuntimeWarning: invalid value encountered in scalar divide\n",
            "  dw = np.sum(diff_resids**2, axis=axis) / np.sum(resids**2, axis=axis)\n"
          ]
        },
        {
          "output_type": "stream",
          "name": "stdout",
          "text": [
            "Optimization terminated successfully    (Exit mode 0)\n",
            "            Current function value: 0.00935982213840737\n",
            "            Iterations: 16\n",
            "            Function evaluations: 18\n",
            "            Gradient evaluations: 16\n",
            "\n",
            "Penalized logit coefficients:\n",
            " const                      0.000000\n",
            "Intercept                  0.000000\n",
            "C(province_code)[T.12]     0.000000\n",
            "C(province_code)[T.13]     0.000000\n",
            "C(province_code)[T.15]     0.000000\n",
            "C(province_code)[T.16]     0.000000\n",
            "C(province_code)[T.17]     0.000000\n",
            "C(province_code)[T.18]     0.000000\n",
            "C(province_code)[T.19]     0.000000\n",
            "C(province_code)[T.31]     0.000000\n",
            "C(province_code)[T.32]     0.000000\n",
            "C(province_code)[T.33]     0.000000\n",
            "C(province_code)[T.35]     0.000000\n",
            "C(province_code)[T.36]     0.000000\n",
            "C(province_code)[T.52]     0.000000\n",
            "C(province_code)[T.53]     0.000000\n",
            "C(province_code)[T.61]     0.000000\n",
            "C(province_code)[T.62]     0.000000\n",
            "C(province_code)[T.63]     0.000000\n",
            "C(province_code)[T.64]     0.000000\n",
            "C(province_code)[T.71]     0.000000\n",
            "C(province_code)[T.72]     0.000000\n",
            "C(province_code)[T.73]     0.000000\n",
            "C(province_code)[T.74]     0.000000\n",
            "C(province_code)[T.81]     0.000000\n",
            "C(province_code)[T.91]     0.000000\n",
            "C(province_code)[T.94]     0.000000\n",
            "digital_payment            0.000000\n",
            "ecommerce_participation    0.000000\n",
            "log_income                 0.000000\n",
            "urban_dummy                0.000000\n",
            "education_level           -1.109899\n",
            "dtype: float64\n",
            "\n",
            "LPM with province-clustered SE:\n",
            "                             OLS Regression Results                            \n",
            "==============================================================================\n",
            "Dep. Variable:          renewable_use   R-squared:                         nan\n",
            "Model:                            OLS   Adj. R-squared:                    nan\n",
            "Method:                 Least Squares   F-statistic:                       nan\n",
            "Date:                Sun, 19 Oct 2025   Prob (F-statistic):                nan\n",
            "Time:                        14:51:44   Log-Likelihood:                    inf\n",
            "No. Observations:                 191   AIC:                              -inf\n",
            "Df Residuals:                     161   BIC:                              -inf\n",
            "Df Model:                          29                                         \n",
            "Covariance Type:              cluster                                         \n",
            "===========================================================================================\n",
            "                              coef    std err          z      P>|z|      [0.025      0.975]\n",
            "-------------------------------------------------------------------------------------------\n",
            "Intercept                        0          0        nan        nan           0           0\n",
            "C(province_code)[T.12]           0          0        nan        nan           0           0\n",
            "C(province_code)[T.13]           0          0        nan        nan           0           0\n",
            "C(province_code)[T.15]           0          0        nan        nan           0           0\n",
            "C(province_code)[T.16]           0          0        nan        nan           0           0\n",
            "C(province_code)[T.17]           0          0        nan        nan           0           0\n",
            "C(province_code)[T.18]           0          0        nan        nan           0           0\n",
            "C(province_code)[T.19]           0          0        nan        nan           0           0\n",
            "C(province_code)[T.31]           0          0        nan        nan           0           0\n",
            "C(province_code)[T.32]           0          0        nan        nan           0           0\n",
            "C(province_code)[T.33]           0          0        nan        nan           0           0\n",
            "C(province_code)[T.35]           0          0        nan        nan           0           0\n",
            "C(province_code)[T.36]           0          0        nan        nan           0           0\n",
            "C(province_code)[T.52]           0          0        nan        nan           0           0\n",
            "C(province_code)[T.53]           0          0        nan        nan           0           0\n",
            "C(province_code)[T.61]           0          0        nan        nan           0           0\n",
            "C(province_code)[T.62]           0          0        nan        nan           0           0\n",
            "C(province_code)[T.63]           0          0        nan        nan           0           0\n",
            "C(province_code)[T.64]           0          0        nan        nan           0           0\n",
            "C(province_code)[T.71]           0          0        nan        nan           0           0\n",
            "C(province_code)[T.72]           0          0        nan        nan           0           0\n",
            "C(province_code)[T.73]           0          0        nan        nan           0           0\n",
            "C(province_code)[T.74]           0          0        nan        nan           0           0\n",
            "C(province_code)[T.81]           0          0        nan        nan           0           0\n",
            "C(province_code)[T.91]           0          0        nan        nan           0           0\n",
            "C(province_code)[T.94]           0          0        nan        nan           0           0\n",
            "digital_payment                  0          0        nan        nan           0           0\n",
            "ecommerce_participation          0          0        nan        nan           0           0\n",
            "log_income                       0          0        nan        nan           0           0\n",
            "urban_dummy                      0          0        nan        nan           0           0\n",
            "education_level                  0          0        nan        nan           0           0\n",
            "==============================================================================\n",
            "Omnibus:                          nan   Durbin-Watson:                     nan\n",
            "Prob(Omnibus):                    nan   Jarque-Bera (JB):                  nan\n",
            "Skew:                             nan   Prob(JB):                          nan\n",
            "Kurtosis:                         nan   Cond. No.                     2.69e+16\n",
            "==============================================================================\n",
            "\n",
            "Notes:\n",
            "[1] Standard Errors are robust to cluster correlation (cluster)\n",
            "[2] The smallest eigenvalue is 3.03e-29. This might indicate that there are\n",
            "strong multicollinearity problems or that the design matrix is singular.\n"
          ]
        },
        {
          "output_type": "stream",
          "name": "stderr",
          "text": [
            "/usr/local/lib/python3.12/dist-packages/statsmodels/regression/linear_model.py:1782: RuntimeWarning: invalid value encountered in scalar divide\n",
            "  return 1 - self.ssr/self.centered_tss\n",
            "/usr/local/lib/python3.12/dist-packages/statsmodels/base/model.py:1894: ValueWarning: covariance of constraints does not have full rank. The number of constraints is 30, but rank is 0\n",
            "  warnings.warn('covariance of constraints does not have full '\n",
            "/usr/local/lib/python3.12/dist-packages/statsmodels/base/model.py:1923: RuntimeWarning: invalid value encountered in divide\n",
            "  F /= J\n",
            "/usr/local/lib/python3.12/dist-packages/statsmodels/regression/linear_model.py:955: RuntimeWarning: divide by zero encountered in log\n",
            "  llf = -nobs2*np.log(2*np.pi) - nobs2*np.log(ssr / nobs) - nobs2\n",
            "/usr/local/lib/python3.12/dist-packages/statsmodels/stats/stattools.py:50: RuntimeWarning: invalid value encountered in scalar divide\n",
            "  dw = np.sum(diff_resids**2, axis=axis) / np.sum(resids**2, axis=axis)\n"
          ]
        }
      ]
    },
    {
      "cell_type": "code",
      "source": [
        "# heterogeneity (income or rural)\n",
        "# Interactions\n",
        "if set([\"log_income\",\"digital_participation\"]).issubset(dm.columns):\n",
        "  lpm_int = smf.ols(\"renewable_use ~ digital_participation*log_income + urban_dummy + education_level + C(province_code)\", data=dm).fit(cov_type=\"HC1\")\n",
        "  print(lpm_int.summary())\n",
        "\n",
        "# Rural only\n",
        "if \"urban_dummy\" in dm.columns:\n",
        "  dm_rural = dm[dm[\"urban_dummy\"]==0].copy()\n",
        "  if len(dm_rural) >50:\n",
        "    lpm_rural = smf.ols(f\"renewable_use ~ {rhs}\", data=dm_rural).fit(cov_type=\"HC1\")\n",
        "    print(\"\\nRural only LPM:\\n\", lpm_rural.summary())"
      ],
      "metadata": {
        "colab": {
          "base_uri": "https://localhost:8080/"
        },
        "id": "kfHcllQZagGu",
        "outputId": "722ee927-afaf-42d5-d98a-5098bd0cfdfb"
      },
      "execution_count": 13,
      "outputs": [
        {
          "output_type": "stream",
          "name": "stdout",
          "text": [
            "                            OLS Regression Results                            \n",
            "==============================================================================\n",
            "Dep. Variable:          renewable_use   R-squared:                         nan\n",
            "Model:                            OLS   Adj. R-squared:                    nan\n",
            "Method:                 Least Squares   F-statistic:                       nan\n",
            "Date:                Sun, 19 Oct 2025   Prob (F-statistic):                nan\n",
            "Time:                        14:51:44   Log-Likelihood:                    inf\n",
            "No. Observations:                 191   AIC:                              -inf\n",
            "Df Residuals:                     162   BIC:                              -inf\n",
            "Df Model:                          28                                         \n",
            "Covariance Type:                  HC1                                         \n",
            "====================================================================================================\n",
            "                                       coef    std err          z      P>|z|      [0.025      0.975]\n",
            "----------------------------------------------------------------------------------------------------\n",
            "Intercept                                 0          0        nan        nan           0           0\n",
            "C(province_code)[T.12]                    0          0        nan        nan           0           0\n",
            "C(province_code)[T.13]                    0          0        nan        nan           0           0\n",
            "C(province_code)[T.15]                    0          0        nan        nan           0           0\n",
            "C(province_code)[T.16]                    0          0        nan        nan           0           0\n",
            "C(province_code)[T.17]                    0          0        nan        nan           0           0\n",
            "C(province_code)[T.18]                    0          0        nan        nan           0           0\n",
            "C(province_code)[T.19]                    0          0        nan        nan           0           0\n",
            "C(province_code)[T.31]                    0          0        nan        nan           0           0\n",
            "C(province_code)[T.32]                    0          0        nan        nan           0           0\n",
            "C(province_code)[T.33]                    0          0        nan        nan           0           0\n",
            "C(province_code)[T.35]                    0          0        nan        nan           0           0\n",
            "C(province_code)[T.36]                    0          0        nan        nan           0           0\n",
            "C(province_code)[T.52]                    0          0        nan        nan           0           0\n",
            "C(province_code)[T.53]                    0          0        nan        nan           0           0\n",
            "C(province_code)[T.61]                    0          0        nan        nan           0           0\n",
            "C(province_code)[T.62]                    0          0        nan        nan           0           0\n",
            "C(province_code)[T.63]                    0          0        nan        nan           0           0\n",
            "C(province_code)[T.64]                    0          0        nan        nan           0           0\n",
            "C(province_code)[T.71]                    0          0        nan        nan           0           0\n",
            "C(province_code)[T.72]                    0          0        nan        nan           0           0\n",
            "C(province_code)[T.73]                    0          0        nan        nan           0           0\n",
            "C(province_code)[T.74]                    0          0        nan        nan           0           0\n",
            "C(province_code)[T.81]                    0          0        nan        nan           0           0\n",
            "C(province_code)[T.91]                    0          0        nan        nan           0           0\n",
            "C(province_code)[T.94]                    0          0        nan        nan           0           0\n",
            "digital_participation                     0          0        nan        nan           0           0\n",
            "log_income                                0          0        nan        nan           0           0\n",
            "digital_participation:log_income          0          0        nan        nan           0           0\n",
            "urban_dummy                               0          0        nan        nan           0           0\n",
            "education_level                           0          0        nan        nan           0           0\n",
            "==============================================================================\n",
            "Omnibus:                          nan   Durbin-Watson:                     nan\n",
            "Prob(Omnibus):                    nan   Jarque-Bera (JB):                  nan\n",
            "Skew:                             nan   Prob(JB):                          nan\n",
            "Kurtosis:                         nan   Cond. No.                     2.68e+16\n",
            "==============================================================================\n",
            "\n",
            "Notes:\n",
            "[1] Standard Errors are heteroscedasticity robust (HC1)\n",
            "[2] The smallest eigenvalue is 3.05e-29. This might indicate that there are\n",
            "strong multicollinearity problems or that the design matrix is singular.\n"
          ]
        },
        {
          "output_type": "stream",
          "name": "stderr",
          "text": [
            "/usr/local/lib/python3.12/dist-packages/statsmodels/regression/linear_model.py:1782: RuntimeWarning: invalid value encountered in scalar divide\n",
            "  return 1 - self.ssr/self.centered_tss\n",
            "/usr/local/lib/python3.12/dist-packages/statsmodels/base/model.py:1894: ValueWarning: covariance of constraints does not have full rank. The number of constraints is 30, but rank is 0\n",
            "  warnings.warn('covariance of constraints does not have full '\n",
            "/usr/local/lib/python3.12/dist-packages/statsmodels/base/model.py:1923: RuntimeWarning: invalid value encountered in divide\n",
            "  F /= J\n",
            "/usr/local/lib/python3.12/dist-packages/statsmodels/regression/linear_model.py:955: RuntimeWarning: divide by zero encountered in log\n",
            "  llf = -nobs2*np.log(2*np.pi) - nobs2*np.log(ssr / nobs) - nobs2\n",
            "/usr/local/lib/python3.12/dist-packages/statsmodels/stats/stattools.py:50: RuntimeWarning: invalid value encountered in scalar divide\n",
            "  dw = np.sum(diff_resids**2, axis=axis) / np.sum(resids**2, axis=axis)\n"
          ]
        }
      ]
    },
    {
      "cell_type": "code",
      "source": [
        "# Export clean tables (for markdown)\n",
        "def simple_table(result, title=\"Table\", roundto=3):\n",
        "  coefs = result.params.round(roundto)\n",
        "  ses = result.bse.round(roundto) if hasattr(result, \"bse\") else None\n",
        "  rows = []\n",
        "  for name in coefs.index:\n",
        "    if name == \"intercept\" or name == \"const\":\n",
        "      label = \"Constant\"\n",
        "    else:\n",
        "      label = name\n",
        "    if ses is not None and name in ses.index:\n",
        "      rows.append(f\"| {label} | {coefs[name]} | |\")\n",
        "  header = f\"### {title}\\n\\n| Variable | Coef. | SE |\\n|---|---:|---:|\\n\"\n",
        "  return header + \"\\n\".join(rows)\n",
        "\n",
        "print(simple_table(lpm, \"Baseline LPM (HC1)\"))\n",
        "if \"lpm_cl\" in locals():\n",
        "    print(simple_table(lpm_cl, \"Baseline LPM (Province-clustered)\"))"
      ],
      "metadata": {
        "colab": {
          "base_uri": "https://localhost:8080/"
        },
        "id": "CkSHmmQmb4Uc",
        "outputId": "d28aa16e-1469-47e1-b9e4-9ea929b4ac92"
      },
      "execution_count": 14,
      "outputs": [
        {
          "output_type": "stream",
          "name": "stdout",
          "text": [
            "### Baseline LPM (HC1)\n",
            "\n",
            "| Variable | Coef. | SE |\n",
            "|---|---:|---:|\n",
            "| Intercept | 0.0 | |\n",
            "| C(province_code)[T.12] | 0.0 | |\n",
            "| C(province_code)[T.13] | 0.0 | |\n",
            "| C(province_code)[T.15] | 0.0 | |\n",
            "| C(province_code)[T.16] | 0.0 | |\n",
            "| C(province_code)[T.17] | 0.0 | |\n",
            "| C(province_code)[T.18] | 0.0 | |\n",
            "| C(province_code)[T.19] | 0.0 | |\n",
            "| C(province_code)[T.31] | 0.0 | |\n",
            "| C(province_code)[T.32] | 0.0 | |\n",
            "| C(province_code)[T.33] | 0.0 | |\n",
            "| C(province_code)[T.35] | 0.0 | |\n",
            "| C(province_code)[T.36] | 0.0 | |\n",
            "| C(province_code)[T.52] | 0.0 | |\n",
            "| C(province_code)[T.53] | 0.0 | |\n",
            "| C(province_code)[T.61] | 0.0 | |\n",
            "| C(province_code)[T.62] | 0.0 | |\n",
            "| C(province_code)[T.63] | 0.0 | |\n",
            "| C(province_code)[T.64] | 0.0 | |\n",
            "| C(province_code)[T.71] | 0.0 | |\n",
            "| C(province_code)[T.72] | 0.0 | |\n",
            "| C(province_code)[T.73] | 0.0 | |\n",
            "| C(province_code)[T.74] | 0.0 | |\n",
            "| C(province_code)[T.81] | 0.0 | |\n",
            "| C(province_code)[T.91] | 0.0 | |\n",
            "| C(province_code)[T.94] | 0.0 | |\n",
            "| digital_payment | 0.0 | |\n",
            "| ecommerce_participation | 0.0 | |\n",
            "| log_income | 0.0 | |\n",
            "| urban_dummy | 0.0 | |\n",
            "| education_level | 0.0 | |\n",
            "### Baseline LPM (Province-clustered)\n",
            "\n",
            "| Variable | Coef. | SE |\n",
            "|---|---:|---:|\n",
            "| Intercept | 0.0 | |\n",
            "| C(province_code)[T.12] | 0.0 | |\n",
            "| C(province_code)[T.13] | 0.0 | |\n",
            "| C(province_code)[T.15] | 0.0 | |\n",
            "| C(province_code)[T.16] | 0.0 | |\n",
            "| C(province_code)[T.17] | 0.0 | |\n",
            "| C(province_code)[T.18] | 0.0 | |\n",
            "| C(province_code)[T.19] | 0.0 | |\n",
            "| C(province_code)[T.31] | 0.0 | |\n",
            "| C(province_code)[T.32] | 0.0 | |\n",
            "| C(province_code)[T.33] | 0.0 | |\n",
            "| C(province_code)[T.35] | 0.0 | |\n",
            "| C(province_code)[T.36] | 0.0 | |\n",
            "| C(province_code)[T.52] | 0.0 | |\n",
            "| C(province_code)[T.53] | 0.0 | |\n",
            "| C(province_code)[T.61] | 0.0 | |\n",
            "| C(province_code)[T.62] | 0.0 | |\n",
            "| C(province_code)[T.63] | 0.0 | |\n",
            "| C(province_code)[T.64] | 0.0 | |\n",
            "| C(province_code)[T.71] | 0.0 | |\n",
            "| C(province_code)[T.72] | 0.0 | |\n",
            "| C(province_code)[T.73] | 0.0 | |\n",
            "| C(province_code)[T.74] | 0.0 | |\n",
            "| C(province_code)[T.81] | 0.0 | |\n",
            "| C(province_code)[T.91] | 0.0 | |\n",
            "| C(province_code)[T.94] | 0.0 | |\n",
            "| digital_payment | 0.0 | |\n",
            "| ecommerce_participation | 0.0 | |\n",
            "| log_income | 0.0 | |\n",
            "| urban_dummy | 0.0 | |\n",
            "| education_level | 0.0 | |\n"
          ]
        }
      ]
    },
    {
      "cell_type": "code",
      "source": [
        "# Regression troubleshooting\n",
        "# Dependent variable (renewable_use) has no variation and the regression couldnt estimate anything meaningful\n",
        "# Check if renewable_use actually varies\n",
        "dm[\"renewable_use\"].value_counts(dropna=False)"
      ],
      "metadata": {
        "colab": {
          "base_uri": "https://localhost:8080/",
          "height": 147
        },
        "id": "Ea-96fh1sc7s",
        "outputId": "e5c16f6a-787a-43cd-8846-62e104def545"
      },
      "execution_count": 15,
      "outputs": [
        {
          "output_type": "execute_result",
          "data": {
            "text/plain": [
              "renewable_use\n",
              "0.0    191\n",
              "Name: count, dtype: int64"
            ],
            "text/html": [
              "<div>\n",
              "<style scoped>\n",
              "    .dataframe tbody tr th:only-of-type {\n",
              "        vertical-align: middle;\n",
              "    }\n",
              "\n",
              "    .dataframe tbody tr th {\n",
              "        vertical-align: top;\n",
              "    }\n",
              "\n",
              "    .dataframe thead th {\n",
              "        text-align: right;\n",
              "    }\n",
              "</style>\n",
              "<table border=\"1\" class=\"dataframe\">\n",
              "  <thead>\n",
              "    <tr style=\"text-align: right;\">\n",
              "      <th></th>\n",
              "      <th>count</th>\n",
              "    </tr>\n",
              "    <tr>\n",
              "      <th>renewable_use</th>\n",
              "      <th></th>\n",
              "    </tr>\n",
              "  </thead>\n",
              "  <tbody>\n",
              "    <tr>\n",
              "      <th>0.0</th>\n",
              "      <td>191</td>\n",
              "    </tr>\n",
              "  </tbody>\n",
              "</table>\n",
              "</div><br><label><b>dtype:</b> int64</label>"
            ]
          },
          "metadata": {},
          "execution_count": 15
        }
      ]
    },
    {
      "cell_type": "code",
      "source": [
        "# Every observation is non-renewable ir. renewable_use = 0 for all households\n",
        "# Investigate raw variable\n",
        "print(hh[\"m1_vi_35\"].value_counts(dropna=False))"
      ],
      "metadata": {
        "colab": {
          "base_uri": "https://localhost:8080/"
        },
        "id": "vkmylz3is5_T",
        "outputId": "33440237-b129-4f24-c246-87b6a0df12ba"
      },
      "execution_count": 16,
      "outputs": [
        {
          "output_type": "stream",
          "name": "stdout",
          "text": [
            "m1_vi_35\n",
            "1    3026\n",
            "2      28\n",
            "3       9\n",
            "Name: count, dtype: int64\n"
          ]
        }
      ]
    },
    {
      "cell_type": "code",
      "source": [
        "# Seems like when the dataset was merged and cleanred, the regression sample (dm) dropped all the 2s and 3s so the regression coefficients are all 0\n",
        "# Confrim which households were dropped\n",
        "print(hh_sub[\"renewable_use\"].value_counts(dropna=False))\n",
        "print(d[\"renewable_use\"].value_counts(dropna=False))\n",
        "print(dm[\"renewable_use\"].value_counts(dropna=False))"
      ],
      "metadata": {
        "colab": {
          "base_uri": "https://localhost:8080/"
        },
        "id": "hBVhs5U1taww",
        "outputId": "c30a9178-9fbf-4177-871c-2d1008c3547a"
      },
      "execution_count": 17,
      "outputs": [
        {
          "output_type": "stream",
          "name": "stdout",
          "text": [
            "renewable_use\n",
            "0.0    3026\n",
            "1.0      28\n",
            "NaN       9\n",
            "Name: count, dtype: int64\n",
            "renewable_use\n",
            "0.0    3026\n",
            "1.0      28\n",
            "NaN       9\n",
            "Name: count, dtype: int64\n",
            "renewable_use\n",
            "0.0    191\n",
            "Name: count, dtype: int64\n"
          ]
        }
      ]
    },
    {
      "cell_type": "code",
      "source": [
        "# Adjust the dependent variable definition\n",
        "# Recode the renewable variable more inclusively: 1=PLN(on-grid), 2=Non-PLN(off-grid), 3=PLN+Non-PLN(hybrid)\n",
        "hh_sub[\"renewable_use\"] = hh_sub[\"lighting_source\"].map({1: 0, 2: 1, 3: 1})\n",
        "\n",
        "hh_sub[\"renewable_use\"].value_counts(dropna=False)"
      ],
      "metadata": {
        "colab": {
          "base_uri": "https://localhost:8080/",
          "height": 178
        },
        "id": "JB_TYE2MutoU",
        "outputId": "3c14deb8-e5a3-4fed-92b6-0948b04c014d"
      },
      "execution_count": 18,
      "outputs": [
        {
          "output_type": "execute_result",
          "data": {
            "text/plain": [
              "renewable_use\n",
              "0    3026\n",
              "1      37\n",
              "Name: count, dtype: int64"
            ],
            "text/html": [
              "<div>\n",
              "<style scoped>\n",
              "    .dataframe tbody tr th:only-of-type {\n",
              "        vertical-align: middle;\n",
              "    }\n",
              "\n",
              "    .dataframe tbody tr th {\n",
              "        vertical-align: top;\n",
              "    }\n",
              "\n",
              "    .dataframe thead th {\n",
              "        text-align: right;\n",
              "    }\n",
              "</style>\n",
              "<table border=\"1\" class=\"dataframe\">\n",
              "  <thead>\n",
              "    <tr style=\"text-align: right;\">\n",
              "      <th></th>\n",
              "      <th>count</th>\n",
              "    </tr>\n",
              "    <tr>\n",
              "      <th>renewable_use</th>\n",
              "      <th></th>\n",
              "    </tr>\n",
              "  </thead>\n",
              "  <tbody>\n",
              "    <tr>\n",
              "      <th>0</th>\n",
              "      <td>3026</td>\n",
              "    </tr>\n",
              "    <tr>\n",
              "      <th>1</th>\n",
              "      <td>37</td>\n",
              "    </tr>\n",
              "  </tbody>\n",
              "</table>\n",
              "</div><br><label><b>dtype:</b> int64</label>"
            ]
          },
          "metadata": {},
          "execution_count": 18
        }
      ]
    },
    {
      "cell_type": "code",
      "source": [
        "# Re-merge and re-run regression\n",
        "df = hh_sub.merge(edu_hh, on=\"hhid_key\", how=\"left\")\n",
        "df.to_csv(\"dehs2020_masterdataset.csv\", index=False)\n",
        "\n",
        "# Same LPM model code as before\n",
        "lpm = smf.ols(f\"renewable_use ~ {rhs}\", data=df).fit(cov_type=\"HC1\")\n",
        "print(lpm.summary())"
      ],
      "metadata": {
        "colab": {
          "base_uri": "https://localhost:8080/"
        },
        "id": "QBpNi5CNutey",
        "outputId": "430440d8-5351-4e75-8d87-5d5cc747d56c"
      },
      "execution_count": 19,
      "outputs": [
        {
          "output_type": "stream",
          "name": "stdout",
          "text": [
            "                            OLS Regression Results                            \n",
            "==============================================================================\n",
            "Dep. Variable:          renewable_use   R-squared:                         nan\n",
            "Model:                            OLS   Adj. R-squared:                    nan\n",
            "Method:                 Least Squares   F-statistic:                       nan\n",
            "Date:                Sun, 19 Oct 2025   Prob (F-statistic):                nan\n",
            "Time:                        14:51:44   Log-Likelihood:                    inf\n",
            "No. Observations:                 191   AIC:                              -inf\n",
            "Df Residuals:                     161   BIC:                              -inf\n",
            "Df Model:                          29                                         \n",
            "Covariance Type:                  HC1                                         \n",
            "===========================================================================================\n",
            "                              coef    std err          z      P>|z|      [0.025      0.975]\n",
            "-------------------------------------------------------------------------------------------\n",
            "Intercept                        0          0        nan        nan           0           0\n",
            "C(province_code)[T.12]           0          0        nan        nan           0           0\n",
            "C(province_code)[T.13]           0          0        nan        nan           0           0\n",
            "C(province_code)[T.15]           0          0        nan        nan           0           0\n",
            "C(province_code)[T.16]           0          0        nan        nan           0           0\n",
            "C(province_code)[T.17]           0          0        nan        nan           0           0\n",
            "C(province_code)[T.18]           0          0        nan        nan           0           0\n",
            "C(province_code)[T.19]           0          0        nan        nan           0           0\n",
            "C(province_code)[T.31]           0          0        nan        nan           0           0\n",
            "C(province_code)[T.32]           0          0        nan        nan           0           0\n",
            "C(province_code)[T.33]           0          0        nan        nan           0           0\n",
            "C(province_code)[T.35]           0          0        nan        nan           0           0\n",
            "C(province_code)[T.36]           0          0        nan        nan           0           0\n",
            "C(province_code)[T.52]           0          0        nan        nan           0           0\n",
            "C(province_code)[T.53]           0          0        nan        nan           0           0\n",
            "C(province_code)[T.61]           0          0        nan        nan           0           0\n",
            "C(province_code)[T.62]           0          0        nan        nan           0           0\n",
            "C(province_code)[T.63]           0          0        nan        nan           0           0\n",
            "C(province_code)[T.64]           0          0        nan        nan           0           0\n",
            "C(province_code)[T.71]           0          0        nan        nan           0           0\n",
            "C(province_code)[T.72]           0          0        nan        nan           0           0\n",
            "C(province_code)[T.73]           0          0        nan        nan           0           0\n",
            "C(province_code)[T.74]           0          0        nan        nan           0           0\n",
            "C(province_code)[T.81]           0          0        nan        nan           0           0\n",
            "C(province_code)[T.82]           0          0        nan        nan           0           0\n",
            "C(province_code)[T.91]           0          0        nan        nan           0           0\n",
            "C(province_code)[T.94]           0          0        nan        nan           0           0\n",
            "digital_payment                  0          0        nan        nan           0           0\n",
            "ecommerce_participation          0          0        nan        nan           0           0\n",
            "log_income                       0          0        nan        nan           0           0\n",
            "urban_dummy                      0          0        nan        nan           0           0\n",
            "education_level                  0          0        nan        nan           0           0\n",
            "==============================================================================\n",
            "Omnibus:                          nan   Durbin-Watson:                     nan\n",
            "Prob(Omnibus):                    nan   Jarque-Bera (JB):                  nan\n",
            "Skew:                             nan   Prob(JB):                          nan\n",
            "Kurtosis:                         nan   Cond. No.                     2.68e+16\n",
            "==============================================================================\n",
            "\n",
            "Notes:\n",
            "[1] Standard Errors are heteroscedasticity robust (HC1)\n",
            "[2] The smallest eigenvalue is 3.04e-29. This might indicate that there are\n",
            "strong multicollinearity problems or that the design matrix is singular.\n"
          ]
        },
        {
          "output_type": "stream",
          "name": "stderr",
          "text": [
            "/usr/local/lib/python3.12/dist-packages/statsmodels/regression/linear_model.py:1782: RuntimeWarning: invalid value encountered in scalar divide\n",
            "  return 1 - self.ssr/self.centered_tss\n",
            "/usr/local/lib/python3.12/dist-packages/statsmodels/base/model.py:1894: ValueWarning: covariance of constraints does not have full rank. The number of constraints is 31, but rank is 0\n",
            "  warnings.warn('covariance of constraints does not have full '\n",
            "/usr/local/lib/python3.12/dist-packages/statsmodels/base/model.py:1923: RuntimeWarning: invalid value encountered in divide\n",
            "  F /= J\n",
            "/usr/local/lib/python3.12/dist-packages/statsmodels/regression/linear_model.py:955: RuntimeWarning: divide by zero encountered in log\n",
            "  llf = -nobs2*np.log(2*np.pi) - nobs2*np.log(ssr / nobs) - nobs2\n",
            "/usr/local/lib/python3.12/dist-packages/statsmodels/stats/stattools.py:50: RuntimeWarning: invalid value encountered in scalar divide\n",
            "  dw = np.sum(diff_resids**2, axis=axis) / np.sum(resids**2, axis=axis)\n"
          ]
        }
      ]
    },
    {
      "cell_type": "code",
      "source": [
        "# The regression is still collapsing even though m1_vi_35 has been recoded to include 2 and 3 as renewable; the regression sample (dm, 191 obs) still contains only 0s\n",
        "# Quick diagnostic\n",
        "# Check overall dataset before filtering\n",
        "print(df[\"renewable_use\"].value_counts(dropna=False))\n",
        "\n",
        "# Check modeling sample after dropna\n",
        "print(dm[\"renewable_use\"].value_counts(dropna=False))\n",
        "\n",
        "# See what rows got dropped\n",
        "print(len(df), \"total rows in df\")\n",
        "print(len(dm), \"rows used in regression\")"
      ],
      "metadata": {
        "colab": {
          "base_uri": "https://localhost:8080/"
        },
        "id": "1XElkYR6yKJt",
        "outputId": "9c0dd76a-faab-46e5-f54e-8350a4e76b33"
      },
      "execution_count": 20,
      "outputs": [
        {
          "output_type": "stream",
          "name": "stdout",
          "text": [
            "renewable_use\n",
            "0    3026\n",
            "1      37\n",
            "Name: count, dtype: int64\n",
            "renewable_use\n",
            "0.0    191\n",
            "Name: count, dtype: int64\n",
            "3063 total rows in df\n",
            "191 rows used in regression\n"
          ]
        }
      ]
    },
    {
      "cell_type": "code",
      "source": [
        "# Relax the filtering so it only require renewable_use to be nonmissing\n",
        "# Keep all renewable households\n",
        "# Rebuild the model dataset, keeping renewable_use nonmissing\n",
        "needed = [\"renewable_use\"] + digital_rhs + controls\n",
        "if \"province_code\" in d.columns and \"province_code\" not in needed:\n",
        "  needed.append(\"province_code\")\n",
        "\n",
        "dm = d[needed].copy()\n",
        "dm = dm.dropna(subset=[\"renewable_use\"])\n",
        "\n",
        "print(\"After relaxed filtering:\")\n",
        "print(dm[\"renewable_use\"].value_counts(dropna=False))"
      ],
      "metadata": {
        "colab": {
          "base_uri": "https://localhost:8080/"
        },
        "id": "3c7SNTHzzYCs",
        "outputId": "53d81a8b-31e0-4b3d-f2c7-3c1064214123"
      },
      "execution_count": 21,
      "outputs": [
        {
          "output_type": "stream",
          "name": "stdout",
          "text": [
            "After relaxed filtering:\n",
            "renewable_use\n",
            "0.0    3026\n",
            "1.0      28\n",
            "Name: count, dtype: int64\n"
          ]
        }
      ]
    },
    {
      "cell_type": "code",
      "source": [
        "# Recreate digital_participation\n",
        "# Build from available digital flags\n",
        "cand = [c for c in [\"digital_payment\",\"ecommerce_participation\"] if c in dm.columns]\n",
        "if \"digital_participation\" not in dm.columns and cand:\n",
        "  dm[\"digital_participation\"] = dm[cand].max(axis=1, skipna=True)\n",
        "\n",
        "# If neither digital var exists, stop and show whats missing\n",
        "if not [c for c in [\"digital_participation\",\"digital_payment\",\"ecommerce_participation\"] if c in dm.columns]:\n",
        "  raise ValueError(\"No digital variables present. Ensure digital_payment / ecommerce_participation were created earlier.\")\n",
        "\n",
        "# Make sure key variables are numeric\n",
        "to_num = [c for c in [\"renewable_use\",\"digital_participation\",\"digital_payment\",\n",
        "                      \"ecommerce_participation\",\"log_income\",\"urban_dummy\",\n",
        "                      \"education_level\"] if c in dm.columns]\n",
        "for c in to_num:\n",
        "  dm[c] = pd.to_numeric(dm[c], errors=\"coerce\")\n",
        "\n",
        "# Build a simple RHS that adapts to whats present\n",
        "digital_rhs = [c for c in [\"digital_participation\",\"digital_payment\",\"ecommerce_participation\"] if c in dm.columns]\n",
        "controls = [c for c in [\"log_income\",\"urban_dummy\",\"education_level\"] if c in dm.columns]\n",
        "rhs = \" + \".join(digital_rhs + controls)\n",
        "\n",
        "# Keep rows with DV and at least the RHS being used\n",
        "d_run = dm.dropna(subset=[\"renewable_use\"] + digital_rhs + controls)\n",
        "print(\"N used:\", len(d_run))\n",
        "print(\"Renewable use distribution:\\n\", d_run[\"renewable_use\"].value_counts(dropna=False))"
      ],
      "metadata": {
        "colab": {
          "base_uri": "https://localhost:8080/"
        },
        "id": "8VQ39QVx1hRj",
        "outputId": "aea626da-8d59-4a09-a3cc-088a5d1367cb"
      },
      "execution_count": 22,
      "outputs": [
        {
          "output_type": "stream",
          "name": "stdout",
          "text": [
            "N used: 191\n",
            "Renewable use distribution:\n",
            " renewable_use\n",
            "0.0    191\n",
            "Name: count, dtype: int64\n"
          ]
        }
      ]
    },
    {
      "cell_type": "code",
      "source": [
        "# Run a simpler model: no province FE yet\n",
        "lpm_simple = smf.ols(f\"renewable_use ~ {rhs}\", data=d_run).fit(cov_type=\"HC1\")\n",
        "print(lpm_simple.summary())"
      ],
      "metadata": {
        "colab": {
          "base_uri": "https://localhost:8080/"
        },
        "id": "R12j5A1O0RhE",
        "outputId": "7ccfbace-13cd-4dab-ad7f-dabdef1e31d1"
      },
      "execution_count": 23,
      "outputs": [
        {
          "output_type": "stream",
          "name": "stdout",
          "text": [
            "                            OLS Regression Results                            \n",
            "==============================================================================\n",
            "Dep. Variable:          renewable_use   R-squared:                         nan\n",
            "Model:                            OLS   Adj. R-squared:                    nan\n",
            "Method:                 Least Squares   F-statistic:                       nan\n",
            "Date:                Sun, 19 Oct 2025   Prob (F-statistic):                nan\n",
            "Time:                        14:51:44   Log-Likelihood:                    inf\n",
            "No. Observations:                 191   AIC:                              -inf\n",
            "Df Residuals:                     186   BIC:                              -inf\n",
            "Df Model:                           4                                         \n",
            "Covariance Type:                  HC1                                         \n",
            "===========================================================================================\n",
            "                              coef    std err          z      P>|z|      [0.025      0.975]\n",
            "-------------------------------------------------------------------------------------------\n",
            "Intercept                        0          0        nan        nan           0           0\n",
            "digital_participation            0          0        nan        nan           0           0\n",
            "digital_payment                  0          0        nan        nan           0           0\n",
            "ecommerce_participation          0          0        nan        nan           0           0\n",
            "log_income                       0          0        nan        nan           0           0\n",
            "urban_dummy                      0          0        nan        nan           0           0\n",
            "education_level                  0          0        nan        nan           0           0\n",
            "==============================================================================\n",
            "Omnibus:                          nan   Durbin-Watson:                     nan\n",
            "Prob(Omnibus):                    nan   Jarque-Bera (JB):                  nan\n",
            "Skew:                             nan   Prob(JB):                          nan\n",
            "Kurtosis:                         nan   Cond. No.                     5.80e+17\n",
            "==============================================================================\n",
            "\n",
            "Notes:\n",
            "[1] Standard Errors are heteroscedasticity robust (HC1)\n",
            "[2] The smallest eigenvalue is 6.55e-32. This might indicate that there are\n",
            "strong multicollinearity problems or that the design matrix is singular.\n"
          ]
        },
        {
          "output_type": "stream",
          "name": "stderr",
          "text": [
            "/usr/local/lib/python3.12/dist-packages/statsmodels/regression/linear_model.py:1782: RuntimeWarning: invalid value encountered in scalar divide\n",
            "  return 1 - self.ssr/self.centered_tss\n",
            "/usr/local/lib/python3.12/dist-packages/statsmodels/base/model.py:1894: ValueWarning: covariance of constraints does not have full rank. The number of constraints is 6, but rank is 0\n",
            "  warnings.warn('covariance of constraints does not have full '\n",
            "/usr/local/lib/python3.12/dist-packages/statsmodels/base/model.py:1923: RuntimeWarning: invalid value encountered in divide\n",
            "  F /= J\n",
            "/usr/local/lib/python3.12/dist-packages/statsmodels/regression/linear_model.py:955: RuntimeWarning: divide by zero encountered in log\n",
            "  llf = -nobs2*np.log(2*np.pi) - nobs2*np.log(ssr / nobs) - nobs2\n",
            "/usr/local/lib/python3.12/dist-packages/statsmodels/stats/stattools.py:50: RuntimeWarning: invalid value encountered in scalar divide\n",
            "  dw = np.sum(diff_resids**2, axis=axis) / np.sum(resids**2, axis=axis)\n"
          ]
        }
      ]
    },
    {
      "cell_type": "code",
      "source": [
        "# The regression result still shows all 0s; may be because an older filtered subset (dm) from before relaxing the filtering is being used\n",
        "# Recreate a flesh dataset for modeling\n",
        "# Rebuild a clean version from the full df (2026 + 28 households)\n",
        "dm = df.copy()\n",
        "cols = [\"renewable_use\", \"digital_participation\",\"log_income\",\"urban_dummy\",\"education_level\"]\n",
        "dm = dm[cols].dropna(subset=[\"renewable_use\"])\n",
        "print(\"Fresh sample size:\", len(dm))"
      ],
      "metadata": {
        "colab": {
          "base_uri": "https://localhost:8080/"
        },
        "id": "AxciVR3D_vLK",
        "outputId": "3b9b3303-d932-4351-d8d0-9d5b367a4cea"
      },
      "execution_count": 24,
      "outputs": [
        {
          "output_type": "stream",
          "name": "stdout",
          "text": [
            "Fresh sample size: 3063\n"
          ]
        }
      ]
    },
    {
      "cell_type": "code",
      "source": [
        "# Rerun the same regression model\n",
        "# Run the baseline regression\n",
        "lpm_simple = smf.ols(\n",
        "    \"renewable_use ~ digital_participation + log_income + urban_dummy + education_level\",\n",
        "    data=dm\n",
        ").fit(cov_type=\"HC1\")\n",
        "\n",
        "print(lpm_simple.summary())"
      ],
      "metadata": {
        "colab": {
          "base_uri": "https://localhost:8080/"
        },
        "id": "e3rH2AvOEAvu",
        "outputId": "a021727e-4705-4f61-bef1-19996ce344bd"
      },
      "execution_count": 25,
      "outputs": [
        {
          "output_type": "stream",
          "name": "stdout",
          "text": [
            "                            OLS Regression Results                            \n",
            "==============================================================================\n",
            "Dep. Variable:          renewable_use   R-squared:                       0.022\n",
            "Model:                            OLS   Adj. R-squared:                  0.020\n",
            "Method:                 Least Squares   F-statistic:                     4.387\n",
            "Date:                Sun, 19 Oct 2025   Prob (F-statistic):            0.00157\n",
            "Time:                        14:51:45   Log-Likelihood:                 1305.3\n",
            "No. Observations:                1536   AIC:                            -2601.\n",
            "Df Residuals:                    1531   BIC:                            -2574.\n",
            "Df Model:                           4                                         \n",
            "Covariance Type:                  HC1                                         \n",
            "=========================================================================================\n",
            "                            coef    std err          z      P>|z|      [0.025      0.975]\n",
            "-----------------------------------------------------------------------------------------\n",
            "Intercept                 0.0305      0.009      3.274      0.001       0.012       0.049\n",
            "digital_participation    -0.0056      0.002     -2.711      0.007      -0.010      -0.002\n",
            "log_income               -0.0008      0.001     -0.742      0.458      -0.003       0.001\n",
            "urban_dummy              -0.0325      0.008     -4.171      0.000      -0.048      -0.017\n",
            "education_level           0.0003      0.001      0.438      0.661      -0.001       0.002\n",
            "==============================================================================\n",
            "Omnibus:                     2271.208   Durbin-Watson:                   0.484\n",
            "Prob(Omnibus):                  0.000   Jarque-Bera (JB):           445505.697\n",
            "Skew:                           9.026   Prob(JB):                         0.00\n",
            "Kurtosis:                      84.457   Cond. No.                         42.0\n",
            "==============================================================================\n",
            "\n",
            "Notes:\n",
            "[1] Standard Errors are heteroscedasticity robust (HC1)\n"
          ]
        }
      ]
    },
    {
      "cell_type": "code",
      "source": [
        "# Further issues inspection and fix\n",
        "# See which variables are causing the drop\n",
        "# Runt a diagnostic\n",
        "missing_summary = dm.isna().sum()\n",
        "print(missing_summary)"
      ],
      "metadata": {
        "colab": {
          "base_uri": "https://localhost:8080/"
        },
        "id": "xgZ8XrnVGOMO",
        "outputId": "f2ba16ca-2409-41af-8c2b-b2377641db4a"
      },
      "execution_count": 26,
      "outputs": [
        {
          "output_type": "stream",
          "name": "stdout",
          "text": [
            "renewable_use               0\n",
            "digital_participation    1521\n",
            "log_income               1521\n",
            "urban_dummy                 0\n",
            "education_level            16\n",
            "dtype: int64\n"
          ]
        }
      ]
    },
    {
      "cell_type": "code",
      "source": [
        "# Check whether nearly all the rows have NaN in at least one of those columns\n",
        "dm_clean = dm.dropna(subset=[\"renewable_use\",\"digital_participation\",\"log_income\",\"urban_dummy\",\"education_level\"])\n",
        "print(\"Rows remaining after full non-missing filter:\", len(dm_clean))"
      ],
      "metadata": {
        "colab": {
          "base_uri": "https://localhost:8080/"
        },
        "id": "Ar_yfFGYGYTT",
        "outputId": "9669c8d2-2a58-41df-9bae-7f1c515bd5c4"
      },
      "execution_count": 27,
      "outputs": [
        {
          "output_type": "stream",
          "name": "stdout",
          "text": [
            "Rows remaining after full non-missing filter: 1536\n"
          ]
        }
      ]
    },
    {
      "cell_type": "code",
      "source": [
        "# Inspect why the NaNs exist\n",
        "for col in [\"digital_participation\",\"log_income\",\"urban_dummy\",\"education_level\"]:\n",
        "  print(col, dm[col].unique()[:10])"
      ],
      "metadata": {
        "colab": {
          "base_uri": "https://localhost:8080/"
        },
        "id": "ssjjF6-ZG3dZ",
        "outputId": "379fc222-7283-4df3-de49-3e31fb417290"
      },
      "execution_count": 28,
      "outputs": [
        {
          "output_type": "stream",
          "name": "stdout",
          "text": [
            "digital_participation [ 0. nan  1.]\n",
            "log_income [0.                nan 2.07944154 1.94591015]\n",
            "urban_dummy [0 1]\n",
            "education_level [ 7.  9. 13.  2.  4. 11. 12.  8.  1. 14.]\n"
          ]
        }
      ]
    },
    {
      "cell_type": "code",
      "source": [
        "# Quick patch: recode missing data for now\n",
        "dm_test = dm.fillna({\n",
        "    \"digital_participation\": 0,\n",
        "    \"digital_payment\": 0,\n",
        "    \"ecommerce_participation\": 0,\n",
        "    \"log_income\": dm[\"log_income\"].median(),\n",
        "    \"urban_dummy\": dm[\"urban_dummy\"].mode()[0],\n",
        "    \"education_level\": dm[\"education_level\"].median()\n",
        "})"
      ],
      "metadata": {
        "id": "TtBTM2zHHeid"
      },
      "execution_count": 29,
      "outputs": []
    },
    {
      "cell_type": "code",
      "source": [
        "# Rerun the model\n",
        "# This is the final version of the regression model\n",
        "lpm_simple = smf.ols(\n",
        "    \"renewable_use ~ digital_participation + log_income + urban_dummy + education_level\",\n",
        "    data=dm_test\n",
        ").fit(cov_type=\"HC1\")\n",
        "\n",
        "print(lpm_simple.summary())"
      ],
      "metadata": {
        "colab": {
          "base_uri": "https://localhost:8080/"
        },
        "id": "s70jAvw0H5NX",
        "outputId": "dab6ed8d-a30f-4672-f036-12aa51a7dcc7"
      },
      "execution_count": 30,
      "outputs": [
        {
          "output_type": "stream",
          "name": "stdout",
          "text": [
            "                            OLS Regression Results                            \n",
            "==============================================================================\n",
            "Dep. Variable:          renewable_use   R-squared:                       0.016\n",
            "Model:                            OLS   Adj. R-squared:                  0.015\n",
            "Method:                 Least Squares   F-statistic:                     8.859\n",
            "Date:                Sun, 19 Oct 2025   Prob (F-statistic):           4.14e-07\n",
            "Time:                        14:51:45   Log-Likelihood:                 2460.8\n",
            "No. Observations:                3063   AIC:                            -4912.\n",
            "Df Residuals:                    3058   BIC:                            -4881.\n",
            "Df Model:                           4                                         \n",
            "Covariance Type:                  HC1                                         \n",
            "=========================================================================================\n",
            "                            coef    std err          z      P>|z|      [0.025      0.975]\n",
            "-----------------------------------------------------------------------------------------\n",
            "Intercept                 0.0353      0.007      5.037      0.000       0.022       0.049\n",
            "digital_participation    -0.0059      0.002     -3.829      0.000      -0.009      -0.003\n",
            "log_income               -0.0022      0.001     -2.164      0.030      -0.004      -0.000\n",
            "urban_dummy              -0.0280      0.006     -5.036      0.000      -0.039      -0.017\n",
            "education_level          -0.0005      0.001     -0.937      0.349      -0.002       0.001\n",
            "==============================================================================\n",
            "Omnibus:                     4373.348   Durbin-Watson:                   0.997\n",
            "Prob(Omnibus):                  0.000   Jarque-Bera (JB):           761594.737\n",
            "Skew:                           8.713   Prob(JB):                         0.00\n",
            "Kurtosis:                      78.258   Cond. No.                         60.2\n",
            "==============================================================================\n",
            "\n",
            "Notes:\n",
            "[1] Standard Errors are heteroscedasticity robust (HC1)\n"
          ]
        }
      ]
    },
    {
      "cell_type": "code",
      "source": [
        "# Create a descriptive statistics table\n",
        "# Import libraries\n",
        "import pandas as pd\n",
        "\n",
        "# Define the descriptive stats dataframe\n",
        "cols = [\n",
        "    \"renewable_use\", # 1 if uses renewables\n",
        "    \"digital_payment\", # 1 if uses digital payment\n",
        "    \"ecommerce_participation\", # 1 if uses ecommerce\n",
        "    \"digital_participation\", # 1 if uses solar/renewable energy\n",
        "    \"log_income\", # log of income\n",
        "    \"urban_dummy\", # 1 if urban\n",
        "    \"education_level\", # years of schooling of household head\n",
        "    \"province_code\"\n",
        "]\n",
        "desc = df[cols].describe().T.rename(columns={\n",
        "     \"count\": \"Obs\",\n",
        "    \"mean\": \"Mean\",\n",
        "    \"std\": \"Std. Dev.\",\n",
        "    \"min\": \"Min\",\n",
        "    \"max\": \"Max\"\n",
        "})[[\"Obs\", \"Mean\", \"Std. Dev.\", \"Min\", \"Max\"]]\n",
        "\n",
        "# Round numeric values to 3 decimal places\n",
        "desc = desc.round(3)\n",
        "\n",
        "# Define the grounps and the rows that belong to each group\n",
        "groups = {\n",
        "    \"Dependent variable\": [\"renewable_use\"],\n",
        "    \"Independent variables\": [\"digital_payment\", \"ecommerce_participation\", \"digital_participation\"],\n",
        "    \"Control variables\": [\"log_income\", \"urban_dummy\", \"education_level\", \"province_code\"],\n",
        "}\n",
        "\n",
        "# Assemble the final table with header rows inserted\n",
        "parts = []\n",
        "for header, var_list in groups.items():\n",
        "    header_row = pd.DataFrame([[None]*5], columns=[\"Obs\",\"Mean\",\"Std. Dev.\",\"Min\",\"Max\"], index=[header])\n",
        "    parts.append(header_row)\n",
        "    parts.append(desc.loc[var_list])\n",
        "\n",
        "desc_ordered = pd.concat(parts, axis=0, ignore_index=False).fillna(\"\") # blanks for header rows\n",
        "\n",
        "# Display with bold headers\n",
        "header_names = set(groups.keys())\n",
        "styler = (\n",
        "    desc_ordered.style\n",
        "    .format(precision=3)\n",
        "    .set_table_styles([\n",
        "        {\"selector\": \"th\", \"props\": [(\"text-align\", \"left\"), (\"font-weight\", \"normal\")]},\n",
        "        {\"selector\": \"td\", \"props\": [(\"text-align\", \"center\")]}\n",
        "    ])\n",
        "    .apply(lambda s: [\"font-weight: bold: text-align:left\" if s.name in header_names else \"\" for _ in s], axis=1)\n",
        ")\n",
        "styler\n"
      ],
      "metadata": {
        "colab": {
          "base_uri": "https://localhost:8080/",
          "height": 450
        },
        "id": "8HqckYiXH6Sp",
        "outputId": "e9b31c26-b5d1-4346-de92-5d5dbae138e1"
      },
      "execution_count": 31,
      "outputs": [
        {
          "output_type": "stream",
          "name": "stderr",
          "text": [
            "/tmp/ipython-input-990507258.py:41: FutureWarning: The behavior of DataFrame concatenation with empty or all-NA entries is deprecated. In a future version, this will no longer exclude empty or all-NA columns when determining the result dtypes. To retain the old behavior, exclude the relevant entries before the concat operation.\n",
            "  desc_ordered = pd.concat(parts, axis=0, ignore_index=False).fillna(\"\") # blanks for header rows\n"
          ]
        },
        {
          "output_type": "execute_result",
          "data": {
            "text/plain": [
              "<pandas.io.formats.style.Styler at 0x7c3919b025a0>"
            ],
            "text/html": [
              "<style type=\"text/css\">\n",
              "#T_45233 th {\n",
              "  text-align: left;\n",
              "  font-weight: normal;\n",
              "}\n",
              "#T_45233 td {\n",
              "  text-align: center;\n",
              "}\n",
              "#T_45233_row0_col0, #T_45233_row0_col1, #T_45233_row0_col2, #T_45233_row0_col3, #T_45233_row0_col4, #T_45233_row2_col0, #T_45233_row2_col1, #T_45233_row2_col2, #T_45233_row2_col3, #T_45233_row2_col4, #T_45233_row6_col0, #T_45233_row6_col1, #T_45233_row6_col2, #T_45233_row6_col3, #T_45233_row6_col4 {\n",
              "  font-weight: bold;\n",
              "}\n",
              "</style>\n",
              "<table id=\"T_45233\" class=\"dataframe\">\n",
              "  <thead>\n",
              "    <tr>\n",
              "      <th class=\"blank level0\" >&nbsp;</th>\n",
              "      <th id=\"T_45233_level0_col0\" class=\"col_heading level0 col0\" >Obs</th>\n",
              "      <th id=\"T_45233_level0_col1\" class=\"col_heading level0 col1\" >Mean</th>\n",
              "      <th id=\"T_45233_level0_col2\" class=\"col_heading level0 col2\" >Std. Dev.</th>\n",
              "      <th id=\"T_45233_level0_col3\" class=\"col_heading level0 col3\" >Min</th>\n",
              "      <th id=\"T_45233_level0_col4\" class=\"col_heading level0 col4\" >Max</th>\n",
              "    </tr>\n",
              "  </thead>\n",
              "  <tbody>\n",
              "    <tr>\n",
              "      <th id=\"T_45233_level0_row0\" class=\"row_heading level0 row0\" >Dependent variable</th>\n",
              "      <td id=\"T_45233_row0_col0\" class=\"data row0 col0\" ></td>\n",
              "      <td id=\"T_45233_row0_col1\" class=\"data row0 col1\" ></td>\n",
              "      <td id=\"T_45233_row0_col2\" class=\"data row0 col2\" ></td>\n",
              "      <td id=\"T_45233_row0_col3\" class=\"data row0 col3\" ></td>\n",
              "      <td id=\"T_45233_row0_col4\" class=\"data row0 col4\" ></td>\n",
              "    </tr>\n",
              "    <tr>\n",
              "      <th id=\"T_45233_level0_row1\" class=\"row_heading level0 row1\" >renewable_use</th>\n",
              "      <td id=\"T_45233_row1_col0\" class=\"data row1 col0\" >3063.000</td>\n",
              "      <td id=\"T_45233_row1_col1\" class=\"data row1 col1\" >0.012</td>\n",
              "      <td id=\"T_45233_row1_col2\" class=\"data row1 col2\" >0.109</td>\n",
              "      <td id=\"T_45233_row1_col3\" class=\"data row1 col3\" >0.000</td>\n",
              "      <td id=\"T_45233_row1_col4\" class=\"data row1 col4\" >1.000</td>\n",
              "    </tr>\n",
              "    <tr>\n",
              "      <th id=\"T_45233_level0_row2\" class=\"row_heading level0 row2\" >Independent variables</th>\n",
              "      <td id=\"T_45233_row2_col0\" class=\"data row2 col0\" ></td>\n",
              "      <td id=\"T_45233_row2_col1\" class=\"data row2 col1\" ></td>\n",
              "      <td id=\"T_45233_row2_col2\" class=\"data row2 col2\" ></td>\n",
              "      <td id=\"T_45233_row2_col3\" class=\"data row2 col3\" ></td>\n",
              "      <td id=\"T_45233_row2_col4\" class=\"data row2 col4\" ></td>\n",
              "    </tr>\n",
              "    <tr>\n",
              "      <th id=\"T_45233_level0_row3\" class=\"row_heading level0 row3\" >digital_payment</th>\n",
              "      <td id=\"T_45233_row3_col0\" class=\"data row3 col0\" >191.000</td>\n",
              "      <td id=\"T_45233_row3_col1\" class=\"data row3 col1\" >0.115</td>\n",
              "      <td id=\"T_45233_row3_col2\" class=\"data row3 col2\" >0.320</td>\n",
              "      <td id=\"T_45233_row3_col3\" class=\"data row3 col3\" >0.000</td>\n",
              "      <td id=\"T_45233_row3_col4\" class=\"data row3 col4\" >1.000</td>\n",
              "    </tr>\n",
              "    <tr>\n",
              "      <th id=\"T_45233_level0_row4\" class=\"row_heading level0 row4\" >ecommerce_participation</th>\n",
              "      <td id=\"T_45233_row4_col0\" class=\"data row4 col0\" >1542.000</td>\n",
              "      <td id=\"T_45233_row4_col1\" class=\"data row4 col1\" >0.124</td>\n",
              "      <td id=\"T_45233_row4_col2\" class=\"data row4 col2\" >0.330</td>\n",
              "      <td id=\"T_45233_row4_col3\" class=\"data row4 col3\" >0.000</td>\n",
              "      <td id=\"T_45233_row4_col4\" class=\"data row4 col4\" >1.000</td>\n",
              "    </tr>\n",
              "    <tr>\n",
              "      <th id=\"T_45233_level0_row5\" class=\"row_heading level0 row5\" >digital_participation</th>\n",
              "      <td id=\"T_45233_row5_col0\" class=\"data row5 col0\" >1542.000</td>\n",
              "      <td id=\"T_45233_row5_col1\" class=\"data row5 col1\" >0.124</td>\n",
              "      <td id=\"T_45233_row5_col2\" class=\"data row5 col2\" >0.330</td>\n",
              "      <td id=\"T_45233_row5_col3\" class=\"data row5 col3\" >0.000</td>\n",
              "      <td id=\"T_45233_row5_col4\" class=\"data row5 col4\" >1.000</td>\n",
              "    </tr>\n",
              "    <tr>\n",
              "      <th id=\"T_45233_level0_row6\" class=\"row_heading level0 row6\" >Control variables</th>\n",
              "      <td id=\"T_45233_row6_col0\" class=\"data row6 col0\" ></td>\n",
              "      <td id=\"T_45233_row6_col1\" class=\"data row6 col1\" ></td>\n",
              "      <td id=\"T_45233_row6_col2\" class=\"data row6 col2\" ></td>\n",
              "      <td id=\"T_45233_row6_col3\" class=\"data row6 col3\" ></td>\n",
              "      <td id=\"T_45233_row6_col4\" class=\"data row6 col4\" ></td>\n",
              "    </tr>\n",
              "    <tr>\n",
              "      <th id=\"T_45233_level0_row7\" class=\"row_heading level0 row7\" >log_income</th>\n",
              "      <td id=\"T_45233_row7_col0\" class=\"data row7 col0\" >1542.000</td>\n",
              "      <td id=\"T_45233_row7_col1\" class=\"data row7 col1\" >0.024</td>\n",
              "      <td id=\"T_45233_row7_col2\" class=\"data row7 col2\" >0.222</td>\n",
              "      <td id=\"T_45233_row7_col3\" class=\"data row7 col3\" >0.000</td>\n",
              "      <td id=\"T_45233_row7_col4\" class=\"data row7 col4\" >2.079</td>\n",
              "    </tr>\n",
              "    <tr>\n",
              "      <th id=\"T_45233_level0_row8\" class=\"row_heading level0 row8\" >urban_dummy</th>\n",
              "      <td id=\"T_45233_row8_col0\" class=\"data row8 col0\" >3063.000</td>\n",
              "      <td id=\"T_45233_row8_col1\" class=\"data row8 col1\" >0.667</td>\n",
              "      <td id=\"T_45233_row8_col2\" class=\"data row8 col2\" >0.471</td>\n",
              "      <td id=\"T_45233_row8_col3\" class=\"data row8 col3\" >0.000</td>\n",
              "      <td id=\"T_45233_row8_col4\" class=\"data row8 col4\" >1.000</td>\n",
              "    </tr>\n",
              "    <tr>\n",
              "      <th id=\"T_45233_level0_row9\" class=\"row_heading level0 row9\" >education_level</th>\n",
              "      <td id=\"T_45233_row9_col0\" class=\"data row9 col0\" >3047.000</td>\n",
              "      <td id=\"T_45233_row9_col1\" class=\"data row9 col1\" >8.442</td>\n",
              "      <td id=\"T_45233_row9_col2\" class=\"data row9 col2\" >4.184</td>\n",
              "      <td id=\"T_45233_row9_col3\" class=\"data row9 col3\" >1.000</td>\n",
              "      <td id=\"T_45233_row9_col4\" class=\"data row9 col4\" >99.000</td>\n",
              "    </tr>\n",
              "    <tr>\n",
              "      <th id=\"T_45233_level0_row10\" class=\"row_heading level0 row10\" >province_code</th>\n",
              "      <td id=\"T_45233_row10_col0\" class=\"data row10 col0\" >3063.000</td>\n",
              "      <td id=\"T_45233_row10_col1\" class=\"data row10 col1\" >58.304</td>\n",
              "      <td id=\"T_45233_row10_col2\" class=\"data row10 col2\" >24.337</td>\n",
              "      <td id=\"T_45233_row10_col3\" class=\"data row10 col3\" >11.000</td>\n",
              "      <td id=\"T_45233_row10_col4\" class=\"data row10 col4\" >94.000</td>\n",
              "    </tr>\n",
              "  </tbody>\n",
              "</table>\n"
            ]
          },
          "metadata": {},
          "execution_count": 31
        }
      ]
    },
    {
      "cell_type": "code",
      "source": [
        "# Visualize a bar chart for renewbales vs. digital participation\n",
        "# Settings\n",
        "DATA_FP = \"/content/dehs2020_masterdataset.csv\"\n",
        "\n",
        "import numpy as np\n",
        "import matplotlib.pyplot as plt\n",
        "import pandas as pd\n",
        "\n",
        "df = pd.read_csv(DATA_FP)\n",
        "\n",
        "# Compute rates (ignore NaNs)\n",
        "rates = (\n",
        "    df[['renewable_use', 'digital_participation']]\n",
        "    .mean(numeric_only=True)\n",
        "    .mul(100)\n",
        "    .rename({'renewable_use':'Renewable use', 'digital_participation':'Digital participation'})\n",
        ")\n",
        "\n",
        "# Simple bar chart\n",
        "plt.figure(figsize=(5,4))\n",
        "bars = plt.bar(rates.index, rates.values)\n",
        "plt.title(\"Household Adoption Rates\")\n",
        "plt.ylabel(\"Percent of households\")\n",
        "plt.ylim(0, max(2.5, rates.max()*1.15)) # keep y-axis sensible when reneewables are ~1%\n",
        "# Annotate bars\n",
        "for b in bars:\n",
        "  plt.text(b.get_x()+b.get_width()/2, b.get_height()+0.05, f\"{b.get_height():.1f}%\", ha='center', va='bottom')\n",
        "  plt.tight_layout()\n",
        "  plt.savefig(\"bar_twin_transitions.png\", dpi=300)\n",
        "plt.show()"
      ],
      "metadata": {
        "colab": {
          "base_uri": "https://localhost:8080/",
          "height": 407
        },
        "id": "k6LTRmoxnfE9",
        "outputId": "c8e78364-fd5e-43c5-8757-775e797f1538"
      },
      "execution_count": 33,
      "outputs": [
        {
          "output_type": "display_data",
          "data": {
            "text/plain": [
              "<Figure size 500x400 with 1 Axes>"
            ],
            "image/png": "[encoded data removed]"
          },
          "metadata": {}
        }
      ]
    },
    {
      "cell_type": "code",
      "source": [
        "# Visualize province maps (GADM level-1)\n",
        "# Setting with GeoJSON path\n",
        "GADM_FP = \"/content/gadm41_IDN_1.json\"\n",
        "\n",
        "# Import geopandas\n",
        "import geopandas as gdp\n",
        "import matplotlib.pyplot as plt\n",
        "\n",
        "# Load data and summarize by province\n",
        "df = pd.read_csv(DATA_FP)\n",
        "\n",
        "prov_summary = (\n",
        "    df.groupby('province_code', dropna=True)\n",
        "    .agg(renewable_rate=('renewable_use','mean'),\n",
        "         digital_rate=('digital_participation','mean'))\n",
        "    .reset_index()\n",
        ")\n",
        "\n",
        "# Convert to percentages\n",
        "prov_summary['renewable_rate'] = prov_summary['renewable_rate'] * 100\n",
        "prov_summary['digital_rate'] = prov_summary['digital_rate'] * 100\n",
        "\n",
        "# Load GADM Level-1\n",
        "try:\n",
        "  idn = gdp.read_file(GADM_FP) # GeoJSON\n",
        "except Exception:\n",
        "  # Fallback if gdp.read_file fails, assuming 'idn' was loaded elsewhere (though this should not happen with the import fix)\n",
        "  # If 'idn' is truly not defined after the import, there's a bigger issue, but for now,\n",
        "  # retain this fallback with the corrected variable name in the slice.\n",
        "  if 'idn' in locals():\n",
        "      idn = idn[['GID_1', 'NAME_1', 'geometry']].copy()\n",
        "  else:\n",
        "      raise # Re-raise if idn is still not defined\n",
        "\n",
        "\n",
        "# Map BPS numeric codes -> GADM NAME_1 (handles DKI/DIY names and the Kepulauan/Kab. variations)\n",
        "bps_to_name = {\n",
        "    11: \"Aceh\",\n",
        "    12: \"SumateraUtara\", # Corrected mapping\n",
        "    13: \"SumateraBarat\", # Corrected mapping\n",
        "    14: \"Riau\",\n",
        "    15: \"Jambi\",\n",
        "    16: \"SumateraSelatan\", # Corrected mapping\n",
        "    17: \"Bengkulu\",\n",
        "    18: \"Lampung\",\n",
        "    19: \"BangkaBelitung\", # Corrected mapping\n",
        "    21: \"KepulauanRiau\", # Corrected mapping\n",
        "    31: \"JakartaRaya\", # Corrected mapping\n",
        "    32: \"JawaBarat\", # Corrected mapping\n",
        "    33: \"JawaTengah\", # Corrected mapping\n",
        "    34: \"Yogyakarta\", # Corrected mapping\n",
        "    35: \"JawaTimur\", # Corrected mapping\n",
        "    36: \"Banten\",\n",
        "    51: \"Bali\",\n",
        "    52: \"NusaTenggaraBarat\", # Corrected mapping\n",
        "    53: \"NusaTenggaraTimur\", # Corrected mapping\n",
        "    61: \"KalimantanBarat\", # Corrected mapping\n",
        "    62: \"KalimantanTengah\", # Corrected mapping\n",
        "    63: \"KalimantanSelatan\", # Corrected mapping\n",
        "    64: \"KalimantanTimur\", # Corrected mapping\n",
        "    65: \"KalimantanUtara\", # Corrected mapping\n",
        "    71: \"SulawesiUtara\", # Corrected mapping\n",
        "    72: \"SulawesiTengah\", # Corrected mapping\n",
        "    73: \"SulawesiSelatan\", # Corrected mapping\n",
        "    74: \"SulawesiTenggara\", # Corrected mapping\n",
        "    75: \"Gorontalo\",\n",
        "    76: \"SulawesiBarat\", # Corrected mapping\n",
        "    81: \"Maluku\",\n",
        "    82: \"MalukuUtara\", # Corrected mapping\n",
        "    91: \"Papua\",\n",
        "    94: \"PapuaBarat\", # Corrected mapping\n",
        "}\n",
        "\n",
        "prov_summary['NAME_1'] = prov_summary['province_code'].map(bps_to_name)\n",
        "\n",
        "# Normalize names (handles minor label differences and match GASM)\n",
        "def norm(x):\n",
        "    return str(x).replace(\"Daerah Istimewa Yogyakarta\", \"DI Yogyakarta\")\\\n",
        "                  .replace(\"DKI Jakarta\", \"DKI Jakarta\")\\\n",
        "                  .replace(\"Kep. Bangka Belitung\",\"Kepulauan Bangka Belitung\")\\\n",
        "                  .strip().lower()\n",
        "\n",
        "prov_summary['name_key'] = prov_summary['NAME_1'].apply(norm)\n",
        "idn['name_key'] = idn['NAME_1'].apply(norm)\n",
        "\n",
        "# Merge and plot\n",
        "gdf = idn.merge(prov_summary, on='name_key', how='left')\n",
        "\n",
        "fig, axes = plt.subplots(1, 2, figsize=(12,5))\n",
        "gdf.plot(\n",
        "    column='renewable_rate', cmap='Oranges', linewidth=0.5, edgecolor='white',\n",
        "    legend=True, legend_kwds={'label':\"Renewable reliance (%)\"}, ax=axes[0]\n",
        ")\n",
        "axes[0].set_title(\"Household renewable reliance (%)\")\n",
        "axes[0].axis('off')\n",
        "\n",
        "gdf.plot(\n",
        "    column='digital_rate', cmap='Blues', linewidth=0.5, edgecolor='white',\n",
        "    legend=True, legend_kwds={'label':\"Digital participation (%)\"}, ax=axes[1]\n",
        ")\n",
        "axes[1].set_title(\"Household digital participation (%)\")\n",
        "axes[1].axis('off')\n",
        "\n",
        "plt.suptitle(\"Twin Transitions at the Provincial Level (DEHS 2020)\", y=0.98)\n",
        "plt.tight_layout()\n",
        "plt.show()\n",
        "\n",
        "# Quick check for any unmacthed provinces\n",
        "missing = prov_summary.loc[~prov_summary['name_key'].isin(idn['name_key'])]\n",
        "print(\"Unmatched (if any)\")\n",
        "print(missing[['province_code','NAME_1']])"
      ],
      "metadata": {
        "id": "7mK6EXysqg95",
        "colab": {
          "base_uri": "https://localhost:8080/",
          "height": 345
        },
        "outputId": "9e549897-350c-4bd8-dd2b-5908c57d6808"
      },
      "execution_count": 65,
      "outputs": [
        {
          "output_type": "display_data",
          "data": {
            "text/plain": [
              "<Figure size 1200x500 with 4 Axes>"
            ],
            "image/png": "[encoded data removed]"
          },
          "metadata": {}
        },
        {
          "output_type": "stream",
          "name": "stdout",
          "text": [
            "Unmatched (if any)\n",
            "Empty DataFrame\n",
            "Columns: [province_code, NAME_1]\n",
            "Index: []\n"
          ]
        }
      ]
    },
    {
      "cell_type": "code",
      "metadata": {
        "colab": {
          "base_uri": "https://localhost:8080/"
        },
        "id": "18d991aa",
        "outputId": "948c83b1-b059-4284-da1a-f9abf375a7d4"
      },
      "source": [
        "# Troubleshooting for the above mapping visualization missing data issues - for work\n",
        "print(\"Unmatched provinces from survey data:\")\n",
        "print(missing[['province_code','NAME_1']])\n",
        "\n",
        "print(\"\\nUnique province names in geographic data:\")\n",
        "print(idn['NAME_1'].unique())"
      ],
      "execution_count": 49,
      "outputs": [
        {
          "output_type": "stream",
          "name": "stdout",
          "text": [
            "Unmatched provinces from survey data:\n",
            "Empty DataFrame\n",
            "Columns: [province_code, NAME_1]\n",
            "Index: []\n",
            "\n",
            "Unique province names in geographic data:\n",
            "['Aceh' 'Bali' 'BangkaBelitung' 'Banten' 'Bengkulu' 'Gorontalo'\n",
            " 'JakartaRaya' 'Jambi' 'JawaBarat' 'JawaTengah' 'JawaTimur'\n",
            " 'KalimantanBarat' 'KalimantanSelatan' 'KalimantanTengah'\n",
            " 'KalimantanTimur' 'KalimantanUtara' 'KepulauanRiau' 'Lampung' 'Maluku'\n",
            " 'MalukuUtara' 'NusaTenggaraBarat' 'NusaTenggaraTimur' 'Papua'\n",
            " 'PapuaBarat' 'Riau' 'SulawesiBarat' 'SulawesiSelatan' 'SulawesiTengah'\n",
            " 'SulawesiTenggara' 'SulawesiUtara' 'SumateraBarat' 'SumateraSelatan'\n",
            " 'SumateraUtara' 'Yogyakarta']\n"
          ]
        }
      ]
    },
    {
      "cell_type": "code",
      "metadata": {
        "colab": {
          "base_uri": "https://localhost:8080/",
          "height": 470
        },
        "id": "6a18918f",
        "outputId": "36fe6326-7183-4a33-dbb8-2bc066e96fd6"
      },
      "source": [
        "# Visualize renewable energy use and digital participation by urban/rural\n",
        "# Group by urban_rural and calculate the mean for the two variables\n",
        "urban_rural_comparison = df.groupby('urban_rural')[['renewable_use', 'digital_participation']].mean() * 100\n",
        "\n",
        "# Rename index for better readability\n",
        "urban_rural_comparison = urban_rural_comparison.rename(index={1: 'Urban', 2: 'Rural'})\n",
        "\n",
        "# Plotting the bar chart\n",
        "urban_rural_comparison.plot(kind='bar', figsize=(8, 6), color=['orange', 'lightblue'])\n",
        "plt.title('Renewable Energy Use and Digital Participation by Urban/Rural')\n",
        "plt.ylabel('Percentage')\n",
        "plt.xticks(rotation=0)\n",
        "plt.legend(['Renewable Use', 'Digital Participation'])\n",
        "plt.tight_layout()\n",
        "plt.show()"
      ],
      "execution_count": 64,
      "outputs": [
        {
          "output_type": "display_data",
          "data": {
            "text/plain": [
              "<Figure size 800x600 with 1 Axes>"
            ],
            "image/png": "[encoded data removed]"
          },
          "metadata": {}
        }
      ]
    },
    {
      "cell_type": "code",
      "metadata": {
        "colab": {
          "base_uri": "https://localhost:8080/",
          "height": 419
        },
        "id": "4e000acd",
        "outputId": "d4cbcb82-d0d9-4e5d-c172-eee56f0f8304"
      },
      "source": [
        "# Visualize Indonesia map showing DEHS 2020 data coverage\n",
        "# Calculate data coverage by province (number of households)\n",
        "data_coverage = df['province_code'].value_counts().reset_index()\n",
        "data_coverage.columns = ['province_code', 'household_count']\n",
        "\n",
        "# Merge with the geographic data\n",
        "# Reload idn to ensure having the original with GID_1\n",
        "GADM_FP = \"/content/gadm41_IDN_1.json.zip\"\n",
        "idn = gdp.read_file(GADM_FP) # GeoJSON\n",
        "# idn['GID_1'] = idn['GID_1'].str.split('.').str[1].astype(int) # Remove this line\n",
        "\n",
        "# Use the existing mapping and normalization to create a common key\n",
        "data_coverage['NAME_1'] = data_coverage['province_code'].map(bps_to_name)\n",
        "data_coverage['name_key'] = data_coverage['NAME_1'].apply(norm)\n",
        "idn['name_key'] = idn['NAME_1'].apply(norm)\n",
        "\n",
        "\n",
        "merged_coverage = idn.merge(data_coverage, on=\"name_key\", how=\"left\")\n",
        "\n",
        "# Plot the map\n",
        "fig, ax = plt.subplots(1, 1, figsize=(10, 10))\n",
        "merged_coverage.plot(column='household_count', cmap='viridis', legend=True,\n",
        "                     legend_kwds={'label': \"Household Count\",\n",
        "                                  'orientation': \"horizontal\"}, ax=ax)\n",
        "ax.set_title(\"DEHS 2020 Data Coverage by Province\")\n",
        "ax.axis('off')\n",
        "plt.show()"
      ],
      "execution_count": 58,
      "outputs": [
        {
          "output_type": "display_data",
          "data": {
            "text/plain": [
              "<Figure size 1000x1000 with 2 Axes>"
            ],
            "image/png": "[encoded data removed]"
          },
          "metadata": {}
        }
      ]
    },
    {
      "cell_type": "code",
      "metadata": {
        "colab": {
          "base_uri": "https://localhost:8080/"
        },
        "id": "858ae375",
        "outputId": "0f938886-623d-4df2-801d-894f03689006"
      },
      "source": [
        "# Troubleshooting DHES data coverage - for work\n",
        "print(\"Data types and unique values in data_coverage['province_code']:\")\n",
        "print(data_coverage['province_code'].dtype)\n",
        "print(data_coverage['province_code'].unique())\n",
        "\n",
        "print(\"\\nData types and unique values in idn['GID_1']:\")\n",
        "print(idn['GID_1'].dtype)\n",
        "print(idn['GID_1'].unique())"
      ],
      "execution_count": 59,
      "outputs": [
        {
          "output_type": "stream",
          "name": "stdout",
          "text": [
            "Data types and unique values in data_coverage['province_code']:\n",
            "int64\n",
            "[81 52 94 53 73 64 63 82 91 61 35 74 71 32 33 11 15 12 19 16 17 72 62 13\n",
            " 31 36 18]\n",
            "\n",
            "Data types and unique values in idn['GID_1']:\n",
            "object\n",
            "['IDN.1_1' 'IDN.2_1' 'IDN.3_1' 'IDN.4_1' 'IDN.5_1' 'IDN.6_1' 'IDN.7_1'\n",
            " 'IDN.8_1' 'IDN.9_1' 'IDN.10_1' 'IDN.11_1' 'IDN.12_1' 'IDN.13_1'\n",
            " 'IDN.14_1' 'IDN.34_1' 'IDN.35_1' 'IDN.16_1' 'IDN.17_1' 'IDN.19_1'\n",
            " 'IDN.18_1' 'IDN.20_1' 'IDN.21_1' 'IDN.23_1' 'IDN.22_1' 'IDN.24_1'\n",
            " 'IDN.25_1' 'IDN.26_1' 'IDN.27_1' 'IDN.28_1' 'IDN.29_1' 'IDN.30_1'\n",
            " 'IDN.31_1' 'IDN.32_1' 'IDN.33_1']\n"
          ]
        }
      ]
    }
  ]
}